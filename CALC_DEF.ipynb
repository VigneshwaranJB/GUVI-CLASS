{
 "cells": [
  {
   "cell_type": "code",
   "execution_count": 16,
   "metadata": {},
   "outputs": [],
   "source": [
    "def calculator(a,b):\n",
    "    print(\"From the list of arithematic operation, enter the operation to be carried out\\nAddition\\nSubtraction\\nMultiplication\\nDivision\\nRaised to the power of the second number\")\n",
    "    operation=str(input(\"Enter the operation to be carried out :\"))\n",
    "    adn=a+b\n",
    "    sun=a-b\n",
    "    mul=a*b\n",
    "    div=a/b\n",
    "    exp=a**b\n",
    "    if operation==\"Addition\":\n",
    "        print(\"The sum of the given two numbers is : {}\".format(adn))\n",
    "    elif operation==\"Subtraction\":\n",
    "        print(\"The difference of the given two numbers is : {}\".format(sun))\n",
    "    elif operation==\"Multiplication\":\n",
    "        print(\"The product of the given two numbers is : {}\".format(mul))\n",
    "    elif operation==\"Division\":\n",
    "        print(\"The quotient of the given two numbers is : {}\".format(div))\n",
    "    elif operation==\"Raised to the power of the second number\":\n",
    "        print(\"The value of first number raised to the power of the second number of the given two numbers is : \\n{}\".format(exp))\n",
    "    else:\n",
    "        return \"Invalid input\""
   ]
  },
  {
   "cell_type": "code",
   "execution_count": 17,
   "metadata": {},
   "outputs": [
    {
     "name": "stdout",
     "output_type": "stream",
     "text": [
      "From the list of arithematic operation, enter the operation to be carried out\n",
      "Addition\n",
      "Subtraction\n",
      "Multiplication\n",
      "Division\n",
      "Raised to the power of the second number\n",
      "Enter the operation to be carried out :Addition\n",
      "The sum of the given two numbers is : 9\n"
     ]
    }
   ],
   "source": [
    "calculator(5,4)"
   ]
  },
  {
   "cell_type": "code",
   "execution_count": 18,
   "metadata": {},
   "outputs": [
    {
     "name": "stdout",
     "output_type": "stream",
     "text": [
      "From the list of arithematic operation, enter the operation to be carried out\n",
      "Addition\n",
      "Subtraction\n",
      "Multiplication\n",
      "Division\n",
      "Raised to the power of the second number\n",
      "Enter the operation to be carried out :Subtraction\n",
      "The difference of the given two numbers is : 1\n"
     ]
    }
   ],
   "source": [
    "calculator(5,4)"
   ]
  },
  {
   "cell_type": "code",
   "execution_count": 19,
   "metadata": {},
   "outputs": [
    {
     "name": "stdout",
     "output_type": "stream",
     "text": [
      "From the list of arithematic operation, enter the operation to be carried out\n",
      "Addition\n",
      "Subtraction\n",
      "Multiplication\n",
      "Division\n",
      "Raised to the power of the second number\n",
      "Enter the operation to be carried out :Multiplication\n",
      "The product of the given two numbers is : 20\n"
     ]
    }
   ],
   "source": [
    "calculator(5,4)"
   ]
  },
  {
   "cell_type": "code",
   "execution_count": 20,
   "metadata": {},
   "outputs": [
    {
     "name": "stdout",
     "output_type": "stream",
     "text": [
      "From the list of arithematic operation, enter the operation to be carried out\n",
      "Addition\n",
      "Subtraction\n",
      "Multiplication\n",
      "Division\n",
      "Raised to the power of the second number\n",
      "Enter the operation to be carried out :Division\n",
      "The quotient of the given two numbers is : 1.25\n"
     ]
    }
   ],
   "source": [
    "calculator(5,4)"
   ]
  },
  {
   "cell_type": "code",
   "execution_count": 21,
   "metadata": {},
   "outputs": [
    {
     "name": "stdout",
     "output_type": "stream",
     "text": [
      "From the list of arithematic operation, enter the operation to be carried out\n",
      "Addition\n",
      "Subtraction\n",
      "Multiplication\n",
      "Division\n",
      "Raised to the power of the second number\n",
      "Enter the operation to be carried out :Raised to the power of the second number\n",
      "The value of first number raised to the power of the second number of the given two numbers is : \n",
      "625\n"
     ]
    }
   ],
   "source": [
    "calculator(5,4)"
   ]
  }
 ],
 "metadata": {
  "kernelspec": {
   "display_name": "Python 3",
   "language": "python",
   "name": "python3"
  },
  "language_info": {
   "codemirror_mode": {
    "name": "ipython",
    "version": 3
   },
   "file_extension": ".py",
   "mimetype": "text/x-python",
   "name": "python",
   "nbconvert_exporter": "python",
   "pygments_lexer": "ipython3",
   "version": "3.7.4"
  }
 },
 "nbformat": 4,
 "nbformat_minor": 2
}
