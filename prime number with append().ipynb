{
 "cells": [
  {
   "cell_type": "code",
   "execution_count": 1,
   "metadata": {},
   "outputs": [
    {
     "name": "stdout",
     "output_type": "stream",
     "text": [
      "Enter number of elements : 3\n",
      "1\n",
      "2\n",
      "3\n",
      "[1, 2, 3]\n",
      "The number 2 is a prime number\n",
      "The number 3 is a prime number\n"
     ]
    }
   ],
   "source": [
    "lst = [] \n",
    "n = int(input(\"Enter number of elements : \")) \n",
    "for i in range(0, n): \n",
    "    element = int(input())   \n",
    "    lst.append(element)\n",
    "      \n",
    "print(lst) \n",
    "for num in lst:\n",
    "    if num > 0:\n",
    "        for i in range(2, num):\n",
    "            if (num % i) == 0:\n",
    "                break\n",
    "        else:\n",
    "            print(\"The number {} is a prime number\".format(num))"
   ]
  },
  {
   "cell_type": "code",
   "execution_count": 2,
   "metadata": {},
   "outputs": [
    {
     "name": "stdout",
     "output_type": "stream",
     "text": [
      "Enter number of elements : 7\n",
      "1\n",
      "2\n",
      "3\n",
      "4\n",
      "5\n",
      "6\n",
      "7\n",
      "[1, 2, 3, 4, 5, 6, 7]\n",
      "The number 2 is a prime number\n",
      "The number 3 is a prime number\n",
      "The number 5 is a prime number\n",
      "The number 7 is a prime number\n"
     ]
    }
   ],
   "source": [
    "lst = [] \n",
    "n = int(input(\"Enter number of elements : \")) \n",
    "for i in range(0, n): \n",
    "    element = int(input())   \n",
    "    lst.append(element)\n",
    "      \n",
    "print(lst) \n",
    "for num in lst:\n",
    "    if num > 0:\n",
    "        for i in range(2, num):\n",
    "            if (num % i) == 0:\n",
    "                break\n",
    "        else:\n",
    "            print(\"The number {} is a prime number\".format(num))"
   ]
  },
  {
   "cell_type": "code",
   "execution_count": 1,
   "metadata": {},
   "outputs": [
    {
     "name": "stdout",
     "output_type": "stream",
     "text": [
      "Enter number of elements : 25\n",
      "1\n",
      "1\n",
      "2\n",
      "2\n",
      "3\n",
      "3\n",
      "4\n",
      "4\n",
      "5\n",
      "5\n",
      "6\n",
      "6\n",
      "7\n",
      "7\n",
      "8\n",
      "8\n",
      "9\n",
      "9\n",
      "10\n",
      "10\n",
      "11\n",
      "11\n",
      "12\n",
      "12\n",
      "13\n",
      "[1, 1, 2, 2, 3, 3, 4, 4, 5, 5, 6, 6, 7, 7, 8, 8, 9, 9, 10, 10, 11, 11, 12, 12, 13]\n",
      "The number 2 is a prime number\n",
      "The number 2 is a prime number\n",
      "The number 3 is a prime number\n",
      "The number 3 is a prime number\n",
      "The number 5 is a prime number\n",
      "The number 5 is a prime number\n",
      "The number 7 is a prime number\n",
      "The number 7 is a prime number\n",
      "The number 11 is a prime number\n",
      "The number 11 is a prime number\n",
      "The number 13 is a prime number\n"
     ]
    }
   ],
   "source": [
    "lst = [] \n",
    "n = int(input(\"Enter number of elements : \")) \n",
    "for i in range(0, n): \n",
    "    element = int(input())   \n",
    "    lst.append(element)\n",
    "      \n",
    "print(lst) \n",
    "for num in lst:\n",
    "    if num > 0:\n",
    "        for i in range(2, num):\n",
    "            if (num % i) == 0:\n",
    "                break\n",
    "        else:\n",
    "            print(\"The number {} is a prime number\".format(num))"
   ]
  },
  {
   "cell_type": "code",
   "execution_count": 6,
   "metadata": {},
   "outputs": [
    {
     "name": "stdout",
     "output_type": "stream",
     "text": [
      "Enter number of elements : 5\n",
      "5767\n",
      "86785\n",
      "97571\n",
      "8769751\n",
      "798761\n",
      "The entered lidt of integers are [5767, 86785, 97571, 8769751, 798761].\n",
      "The number 97571 is a prime number\n"
     ]
    }
   ],
   "source": [
    "lst = [] \n",
    "n = int(input(\"Enter number of elements : \")) \n",
    "for i in range(0, n): \n",
    "    element = int(input())   \n",
    "    lst.append(element)\n",
    "      \n",
    "print(\"The entered list of integers are {}.\".format(lst)) \n",
    "for num in lst:\n",
    "    if num > 0:\n",
    "        for i in range(2, num):\n",
    "            if (num % i) == 0:\n",
    "                break\n",
    "        else:\n",
    "            print(\"The number {} is a prime number\".format(num))"
   ]
  },
  {
   "cell_type": "code",
   "execution_count": null,
   "metadata": {},
   "outputs": [],
   "source": []
  }
 ],
 "metadata": {
  "kernelspec": {
   "display_name": "Python 3",
   "language": "python",
   "name": "python3"
  },
  "language_info": {
   "codemirror_mode": {
    "name": "ipython",
    "version": 3
   },
   "file_extension": ".py",
   "mimetype": "text/x-python",
   "name": "python",
   "nbconvert_exporter": "python",
   "pygments_lexer": "ipython3",
   "version": "3.7.4"
  }
 },
 "nbformat": 4,
 "nbformat_minor": 2
}
