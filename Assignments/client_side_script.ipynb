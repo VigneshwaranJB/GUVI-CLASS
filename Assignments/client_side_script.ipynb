{
 "cells": [
  {
   "cell_type": "code",
   "execution_count": null,
   "metadata": {},
   "outputs": [],
   "source": [
    "# Python program to implement client side of chat room. \n",
    "import socket \n",
    "import select \n",
    "import sys \n",
    "\n",
    "server = socket.socket(socket.AF_INET, socket.SOCK_STREAM) \n",
    "if len(sys.argv) != 3: \n",
    "\tprint \"Correct usage: script, IP address, port number\"\n",
    "\texit() \n",
    "IP_address = str(sys.argv[1]) \n",
    "Port = int(sys.argv[2]) \n",
    "server.connect((IP_address, Port)) \n",
    "\n",
    "while True: \n",
    "\n",
    "\t# maintains a list of possible input streams \n",
    "\tsockets_list = [sys.stdin, server] \n",
    "\n",
    "\tread_sockets,write_socket, error_socket = select.select(sockets_list,[],[]) \n",
    "\n",
    "\tfor socks in read_sockets: \n",
    "\t\tif socks == server: \n",
    "\t\t\tmessage = socks.recv(2048) \n",
    "\t\t\tprint message \n",
    "\t\telse: \n",
    "\t\t\tmessage = sys.stdin.readline() \n",
    "\t\t\tserver.send(message) \n",
    "\t\t\tsys.stdout.write(\"<You>\") \n",
    "\t\t\tsys.stdout.write(message) \n",
    "\t\t\tsys.stdout.flush() \n",
    "server.close() \n"
   ]
  }
 ],
 "metadata": {
  "kernelspec": {
   "display_name": "Python 3",
   "language": "python",
   "name": "python3"
  },
  "language_info": {
   "codemirror_mode": {
    "name": "ipython",
    "version": 3
   },
   "file_extension": ".py",
   "mimetype": "text/x-python",
   "name": "python",
   "nbconvert_exporter": "python",
   "pygments_lexer": "ipython3",
   "version": "3.7.4"
  }
 },
 "nbformat": 4,
 "nbformat_minor": 2
}
