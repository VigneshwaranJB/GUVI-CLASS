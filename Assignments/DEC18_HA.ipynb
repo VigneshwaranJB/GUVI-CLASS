{
 "cells": [
  {
   "cell_type": "markdown",
   "metadata": {},
   "source": [
    "1.Write a program to enter two numbers and find their sum."
   ]
  },
  {
   "cell_type": "code",
   "execution_count": 6,
   "metadata": {},
   "outputs": [
    {
     "name": "stdout",
     "output_type": "stream",
     "text": [
      "First number: 1\n",
      "Second number: 2\n",
      "The sum of 1.0 and 2.0 is 3.0\n"
     ]
    }
   ],
   "source": [
    "a = float(input('First number: '))\n",
    "b = float(input('Second number: '))\n",
    "c= a+b\n",
    "print(\"The sum of {} and {} is {}\".format(a,b,c))"
   ]
  },
  {
   "cell_type": "markdown",
   "metadata": {},
   "source": [
    "2.Write a program to enter two numbers and perform all arithmetic operations."
   ]
  },
  {
   "cell_type": "code",
   "execution_count": 7,
   "metadata": {},
   "outputs": [
    {
     "name": "stdout",
     "output_type": "stream",
     "text": [
      "First number: 1\n",
      "Second number: 5\n",
      "The sum of 1.0 and 5.0 is 6.0\n",
      "The difference of 1.0 and 5.0 is -4.0\n",
      "The product of 1.0 and 5.0 is 5.0\n",
      "The quotient of 1.0 and 5.0 is 0.2\n",
      "The quotient roundoff of 1.0 and 5.0 is 0.0\n",
      "The reminder in division of 1.0 and 5.0 is 1.0\n"
     ]
    }
   ],
   "source": [
    "a = float(input('First number: '))\n",
    "b = float(input('Second number: '))\n",
    "adn=a+b\n",
    "sun=a-b\n",
    "mul=a*b\n",
    "div=a/b\n",
    "fdi=a//b\n",
    "mdi=a%b\n",
    "print(\"The sum of {} and {} is {}\".format(a,b,adn))\n",
    "print(\"The difference of {} and {} is {}\".format(a,b,sun))\n",
    "print(\"The product of {} and {} is {}\".format(a,b,mul))\n",
    "print(\"The quotient of {} and {} is {}\".format(a,b,div))\n",
    "print(\"The quotient roundoff of {} and {} is {}\".format(a,b,fdi))\n",
    "print(\"The reminder in division of {} and {} is {}\".format(a,b,mdi))"
   ]
  },
  {
   "cell_type": "markdown",
   "metadata": {},
   "source": [
    "3.Write a program to enter length and breadth of a rectangle and find its perimeter."
   ]
  },
  {
   "cell_type": "code",
   "execution_count": 8,
   "metadata": {},
   "outputs": [
    {
     "name": "stdout",
     "output_type": "stream",
     "text": [
      "Length of the rectangle: 5\n",
      "Breadth of the rectangle: 2\n",
      "Perimeter of the rectangle: 14.0\n"
     ]
    }
   ],
   "source": [
    "a = float(input('Length of the rectangle: '))\n",
    "b = float(input('Breadth of the rectangle: '))\n",
    "c=2*a+2*b\n",
    "print('Perimeter of the rectangle: {}'.format(c))"
   ]
  },
  {
   "cell_type": "markdown",
   "metadata": {},
   "source": [
    "4.Write a program to enter length and breadth of a rectangle and find its area."
   ]
  },
  {
   "cell_type": "code",
   "execution_count": 9,
   "metadata": {},
   "outputs": [
    {
     "name": "stdout",
     "output_type": "stream",
     "text": [
      "Length of the rectangle: 5\n",
      "Breadth of the rectangle: 4\n",
      "Area of the rectangle: 20.0\n"
     ]
    }
   ],
   "source": [
    "a = float(input('Length of the rectangle: '))\n",
    "b = float(input('Breadth of the rectangle: '))\n",
    "c=a*b\n",
    "print('Area of the rectangle: {}'.format(c))"
   ]
  },
  {
   "cell_type": "markdown",
   "metadata": {},
   "source": [
    "5.Write a program to enter radius of a circle and find its diameter, circumference and area."
   ]
  },
  {
   "cell_type": "code",
   "execution_count": 10,
   "metadata": {},
   "outputs": [
    {
     "name": "stdout",
     "output_type": "stream",
     "text": [
      "The radius of the circle: 6\n",
      "Diameter of the circle: 12.0\n",
      "Circumference of the circle: 37.714285714285715\n",
      "Area of the circle: 113.14285714285714\n"
     ]
    }
   ],
   "source": [
    "a = float(input('The radius of the circle: '))\n",
    "b=a*2\n",
    "c=2*a*22/7\n",
    "d=22/7*a**2\n",
    "print('Diameter of the circle: {}'.format(b))\n",
    "print('Circumference of the circle: {}'.format(c))\n",
    "print('Area of the circle: {}'.format(d))"
   ]
  },
  {
   "cell_type": "markdown",
   "metadata": {},
   "source": [
    "6.Write a program to enter length in centimeter and convert it into meter and kilometer."
   ]
  },
  {
   "cell_type": "code",
   "execution_count": 12,
   "metadata": {},
   "outputs": [
    {
     "name": "stdout",
     "output_type": "stream",
     "text": [
      "The values in centimeters: 8743842\n",
      "8743842.0 cms is equal to 87438.42 m and 87.43842 kms\n"
     ]
    }
   ],
   "source": [
    "a = float(input('The values in centimeters: '))\n",
    "b = a/100\n",
    "c=a/100000\n",
    "print('{} cms is equal to {} m and {} kms'.format(a,b,c))"
   ]
  },
  {
   "cell_type": "markdown",
   "metadata": {},
   "source": [
    "7.Write a program to enter temperature in Celsius and convert it into Fahrenheit."
   ]
  },
  {
   "cell_type": "code",
   "execution_count": 13,
   "metadata": {},
   "outputs": [
    {
     "name": "stdout",
     "output_type": "stream",
     "text": [
      "The temperature in celcius: 76\n",
      "76.0 Celcius is equal to 168.8 Fahrenheit\n"
     ]
    }
   ],
   "source": [
    "#(0°C × 9/5) + 32 \n",
    "a = float(input('The temperature in Celcius: '))\n",
    "b=a*9/5+32\n",
    "print('{} Celcius is equal to {} Fahrenheit'.format(a,b))"
   ]
  },
  {
   "cell_type": "markdown",
   "metadata": {},
   "source": [
    "8.Write a program to enter temperature in Fahrenheit and convert to Celsius"
   ]
  },
  {
   "cell_type": "code",
   "execution_count": 14,
   "metadata": {},
   "outputs": [
    {
     "name": "stdout",
     "output_type": "stream",
     "text": [
      "The temperature in Fahrenheit: 168.8\n",
      "168.8 Fahrenheit is equal to 76.0 Celcius\n"
     ]
    }
   ],
   "source": [
    "a = float(input('The temperature in Fahrenheit: '))\n",
    "b=(a-32)*5/9\n",
    "print('{} Fahrenheit is equal to {} Celcius'.format(a,b))"
   ]
  },
  {
   "cell_type": "markdown",
   "metadata": {},
   "source": [
    "9.Write a program to convert days into weeks, months and years."
   ]
  },
  {
   "cell_type": "code",
   "execution_count": 19,
   "metadata": {},
   "outputs": [
    {
     "name": "stdout",
     "output_type": "stream",
     "text": [
      "The number of days: 800\n",
      "800 days is equal to 114.28571428571429 weeks, 26.666666666666668 months and 2.191780821917808 years\n"
     ]
    }
   ],
   "source": [
    "a = int(input('The number of days: '))\n",
    "b=a/7\n",
    "c=a/30\n",
    "d=a/365\n",
    "print('{} days is equal to {} weeks, {} months and {} years'.format(a,b,c,d))"
   ]
  },
  {
   "cell_type": "markdown",
   "metadata": {},
   "source": [
    "10.Write a program to find power of any number x ^ y."
   ]
  },
  {
   "cell_type": "code",
   "execution_count": 21,
   "metadata": {},
   "outputs": [
    {
     "name": "stdout",
     "output_type": "stream",
     "text": [
      "First number: 4\n",
      "Second number: 2\n",
      "4.0 raised to the power of 2.0 is 16.0\n"
     ]
    }
   ],
   "source": [
    "a = float(input('First number: '))\n",
    "b = float(input('Second number: '))\n",
    "c = a**b\n",
    "print(\"{} raised to the power of {} is {}\".format(a,b,c))"
   ]
  },
  {
   "cell_type": "markdown",
   "metadata": {},
   "source": [
    "11.Write a program to enter any number and calculate its square root."
   ]
  },
  {
   "cell_type": "code",
   "execution_count": 25,
   "metadata": {},
   "outputs": [
    {
     "name": "stdout",
     "output_type": "stream",
     "text": [
      "Enter the number: 4\n",
      "The squareroot of the number 4.0 is 2.0\n"
     ]
    }
   ],
   "source": [
    "import math\n",
    "a = float(input('Enter the number: '))\n",
    "b=math.sqrt(a)\n",
    "print('The squareroot of the number {} is {}'.format(a,b))"
   ]
  },
  {
   "cell_type": "markdown",
   "metadata": {},
   "source": [
    "12.Write a program to enter two angles of a triangle and find the third angle."
   ]
  },
  {
   "cell_type": "code",
   "execution_count": 32,
   "metadata": {},
   "outputs": [
    {
     "name": "stdout",
     "output_type": "stream",
     "text": [
      "First angle: 50\n",
      "Second angle: 60\n",
      "The third angle of the triangle: 70.0\n"
     ]
    }
   ],
   "source": [
    "a = float(input('First angle: '))\n",
    "b = float(input('Second angle: '))\n",
    "c=180-(a+b)\n",
    "if a+b+c==180 and c!=0:\n",
    "    print('The third angle of the triangle: {}'.format(c))\n",
    "else:\n",
    "    print(\"Invalid input\")"
   ]
  },
  {
   "cell_type": "markdown",
   "metadata": {},
   "source": [
    "13.Write a program to enter base and height of a triangle and find its area."
   ]
  },
  {
   "cell_type": "code",
   "execution_count": 33,
   "metadata": {},
   "outputs": [
    {
     "name": "stdout",
     "output_type": "stream",
     "text": [
      "Base of the triangle: 4\n",
      "Base of the triangle: 9\n",
      "The area of the triangle: 18.0\n"
     ]
    }
   ],
   "source": [
    "a = float(input('Base of the triangle: '))\n",
    "b = float(input('Base of the triangle: '))\n",
    "c = a*b/2\n",
    "print('The area of the triangle: {}'.format(c))"
   ]
  },
  {
   "cell_type": "markdown",
   "metadata": {},
   "source": [
    "14.Write a program to calculate area of an equilateral triangle."
   ]
  },
  {
   "cell_type": "code",
   "execution_count": 34,
   "metadata": {},
   "outputs": [
    {
     "name": "stdout",
     "output_type": "stream",
     "text": [
      "Side of the triangle: 5\n",
      "The area of the equilateral triangle: 18.0\n"
     ]
    }
   ],
   "source": [
    "import math\n",
    "a = float(input('Side of the triangle: '))\n",
    "b = math.sqrt(3)*a**2/4\n",
    "print('The area of the equilateral triangle: {}'.format(c))"
   ]
  },
  {
   "cell_type": "markdown",
   "metadata": {},
   "source": [
    "15.Write a program to enter marks of five subjects and calculate total, average and\n",
    "percentage."
   ]
  },
  {
   "cell_type": "code",
   "execution_count": 36,
   "metadata": {},
   "outputs": [
    {
     "name": "stdout",
     "output_type": "stream",
     "text": [
      "Mark scored by student in maths : 99\n",
      "Mark scored by student in science : 99\n",
      "Mark scored by student in social : 99\n",
      "Mark scored by student in tamil : 99\n",
      "Mark scored by student in english : 99\n",
      "{'Maths': 99, 'Science': 99, 'Social': 99, 'Tamil': 99, 'English': 99}\n",
      "(99, 99, 99, 99, 99)\n",
      "The grade score of the student in Maths is A\n",
      "The grade score of the student in Science is A\n",
      "The grade score of the student in Social is A\n",
      "The grade score of the student in Tamil is A\n",
      "The grade score of the student in English is A\n",
      "The total and the average of the marks scored from all the subjects are 495 and 99.0 respectively\n"
     ]
    }
   ],
   "source": [
    "a = int(input(\"Mark scored by student in maths : \"))\n",
    "b = int(input(\"Mark scored by student in science : \"))\n",
    "c = int(input(\"Mark scored by student in social : \"))\n",
    "d = int(input(\"Mark scored by student in tamil : \"))\n",
    "e = int(input(\"Mark scored by student in english : \"))\n",
    "scorecard={\"Maths\":a,\"Science\":b,\"Social\":c,\"Tamil\":d,\"English\":e}\n",
    "print(scorecard)\n",
    "marklist=(a,b,c,d,e)\n",
    "print(marklist)\n",
    "if a>=90:\n",
    "    print(\"The grade score of the student in Maths is A\")\n",
    "elif a>=80:\n",
    "    print(\"The grade score of the student in Maths is B\")\n",
    "elif a>=70:\n",
    "    print(\"The grade score of the student in Maths is C\")\n",
    "elif a>=60:\n",
    "    print(\"The grade score of the student in Maths is D\")\n",
    "else:\n",
    "    print(\"The grade score of the student in Maths is E\")\n",
    "if b>=90:\n",
    "    print(\"The grade score of the student in Science is A\")\n",
    "elif b>=80:\n",
    "    print(\"The grade score of the student in Science is B\")\n",
    "elif b>=70:\n",
    "    print(\"The grade score of the student in Science is C\")\n",
    "elif b>=60:\n",
    "    print(\"The grade score of the student in Science is D\")\n",
    "else:\n",
    "    print(\"The grade score of the student in Science is E\")\n",
    "if c>=90:\n",
    "    print(\"The grade score of the student in Social is A\")\n",
    "elif c>=80:\n",
    "    print(\"The grade score of the student in Social is B\")\n",
    "elif c>=70:\n",
    "    print(\"The grade score of the student in Social is C\")\n",
    "elif c>=60:\n",
    "    print(\"The grade score of the student in Social is D\")\n",
    "else:\n",
    "    print(\"The grade score of the student in Social is E\")\n",
    "if d>=90:\n",
    "    print(\"The grade score of the student in Tamil is A\")\n",
    "elif d>=80:\n",
    "    print(\"The grade score of the student in Tamil is B\")\n",
    "elif d>=70:\n",
    "    print(\"The grade score of the student in Tamil is C\")\n",
    "elif d>=60:\n",
    "    print(\"The grade score of the student in Tamil is D\")\n",
    "else:\n",
    "    print(\"The grade score of the student in Tamil is E\")\n",
    "if e>=90:\n",
    "    print(\"The grade score of the student in English is A\")\n",
    "elif e>=80:\n",
    "    print(\"The grade score of the student in English is B\")\n",
    "elif e>=70:\n",
    "    print(\"The grade score of the student in English is C\")\n",
    "elif e>=60:\n",
    "    print(\"The grade score of the student in English is D\")\n",
    "else:\n",
    "    print(\"The grade score of the student in English is E\")\n",
    "tot=a+b+c+d+e\n",
    "avg=(a+b+c+d+e)/5\n",
    "print(\"The total and the average of the marks scored from all the subjects are {} and {} respectively\".format(tot,avg))"
   ]
  },
  {
   "cell_type": "markdown",
   "metadata": {},
   "source": [
    "16.Write a program to enter P, T, R and calculate Simple Interest."
   ]
  },
  {
   "cell_type": "code",
   "execution_count": 45,
   "metadata": {},
   "outputs": [
    {
     "name": "stdout",
     "output_type": "stream",
     "text": [
      "Principle amount : 100\n",
      "Rate of Interest : 10\n",
      "Term of the loan/deposit in years : 1\n",
      "The Simple Interest for a Principle amount of 100, Term of 1 years and Rate of Interest of 10 is 10.0\n"
     ]
    }
   ],
   "source": [
    "p = int(input(\"Principle amount : \"))\n",
    "r = int(input(\"Rate of Interest : \"))\n",
    "t = int(input(\"Term of the loan/deposit in years : \"))\n",
    "si=p*r*t/100\n",
    "print(\"The Simple Interest for a Principle amount of {}, Term of {} years and Rate of Interest of {} is {}\".format(p,t,r,si))"
   ]
  },
  {
   "cell_type": "markdown",
   "metadata": {},
   "source": [
    "17.Write a program to enter P, T, R and calculate Compound Interest."
   ]
  },
  {
   "cell_type": "code",
   "execution_count": 46,
   "metadata": {},
   "outputs": [
    {
     "name": "stdout",
     "output_type": "stream",
     "text": [
      "Principle amount : 1000\n",
      "Rate of Interest : 10\n",
      "Term of the loan/deposit in years : 1\n",
      "Number of times the interest is compounded per year : 2\n",
      "The Simple Interest for a Principle amount of 1000, Term of 1 years, Rate of Interest of 10 and 2 Number of times the interest is compounded per year is 50.0\n"
     ]
    }
   ],
   "source": [
    "p = int(input(\"Principle amount : \"))\n",
    "r = int(input(\"Rate of Interest : \"))\n",
    "t = int(input(\"Term of the loan/deposit in years : \"))\n",
    "n  =  int(input(\"Number of times the interest is compounded per year : \"))\n",
    "ci = p*(1+(r/100)/n)**(t)-p\n",
    "print(\"The Simple Interest for a Principle amount of {}, Term of {} years, Rate of Interest of {} and {} Number of times the interest is compounded per year is {}\".format(p,t,r,n,ci))"
   ]
  },
  {
   "cell_type": "markdown",
   "metadata": {},
   "source": [
    "18.Write a program to find maximum between two numbers."
   ]
  },
  {
   "cell_type": "code",
   "execution_count": 47,
   "metadata": {},
   "outputs": [
    {
     "name": "stdout",
     "output_type": "stream",
     "text": [
      "First number: 867\n",
      "Second number: 999\n",
      "999.0 is greater than 867.0\n"
     ]
    }
   ],
   "source": [
    "a = float(input('First number: '))\n",
    "b = float(input('Second number: '))\n",
    "if a>b:\n",
    "    print(\"{} is greater than {}\".format(a,b))\n",
    "elif a<b:\n",
    "    print(\"{} is greater than {}\".format(b,a))\n",
    "elif a==b:\n",
    "    print(\"{} and {} are equals\".format(b,a))\n",
    "else:\n",
    "    print(\"Invalid input\")"
   ]
  },
  {
   "cell_type": "markdown",
   "metadata": {},
   "source": [
    "19.Write a program to find maximum between three numbers."
   ]
  },
  {
   "cell_type": "code",
   "execution_count": 1,
   "metadata": {},
   "outputs": [
    {
     "name": "stdout",
     "output_type": "stream",
     "text": [
      "First number: 5\n",
      "Second number: 6\n",
      "Second number: 7\n",
      "7.0\n"
     ]
    }
   ],
   "source": [
    "import math\n",
    "a = float(input('First number: '))\n",
    "b = float(input('Second number: '))\n",
    "c = float(input('Second number: '))\n",
    "print(max(a,b,c))"
   ]
  },
  {
   "cell_type": "code",
   "execution_count": null,
   "metadata": {},
   "outputs": [],
   "source": []
  }
 ],
 "metadata": {
  "kernelspec": {
   "display_name": "Python 3",
   "language": "python",
   "name": "python3"
  },
  "language_info": {
   "codemirror_mode": {
    "name": "ipython",
    "version": 3
   },
   "file_extension": ".py",
   "mimetype": "text/x-python",
   "name": "python",
   "nbconvert_exporter": "python",
   "pygments_lexer": "ipython3",
   "version": "3.7.4"
  }
 },
 "nbformat": 4,
 "nbformat_minor": 2
}
