{
 "cells": [
  {
   "cell_type": "markdown",
   "metadata": {},
   "source": [
    "1.Write a program to print all odd number between 1 to 100."
   ]
  },
  {
   "cell_type": "code",
   "execution_count": 1,
   "metadata": {
    "scrolled": true
   },
   "outputs": [
    {
     "name": "stdout",
     "output_type": "stream",
     "text": [
      "1\n",
      "3\n",
      "5\n",
      "7\n",
      "9\n",
      "11\n",
      "13\n",
      "15\n",
      "17\n",
      "19\n",
      "21\n",
      "23\n",
      "25\n",
      "27\n",
      "29\n",
      "31\n",
      "33\n",
      "35\n",
      "37\n",
      "39\n",
      "41\n",
      "43\n",
      "45\n",
      "47\n",
      "49\n",
      "51\n",
      "53\n",
      "55\n",
      "57\n",
      "59\n",
      "61\n",
      "63\n",
      "65\n",
      "67\n",
      "69\n",
      "71\n",
      "73\n",
      "75\n",
      "77\n",
      "79\n",
      "81\n",
      "83\n",
      "85\n",
      "87\n",
      "89\n",
      "91\n",
      "93\n",
      "95\n",
      "97\n",
      "99\n"
     ]
    }
   ],
   "source": [
    "for i in range(1,100):\n",
    "    if i%2!=0:\n",
    "        print(i)\n",
    "    else:\n",
    "        pass"
   ]
  },
  {
   "cell_type": "markdown",
   "metadata": {},
   "source": [
    "2.Write a program to print all even numbers between 1 to 100. - using while loop"
   ]
  },
  {
   "cell_type": "code",
   "execution_count": 3,
   "metadata": {},
   "outputs": [
    {
     "name": "stdout",
     "output_type": "stream",
     "text": [
      "0\n",
      "2\n",
      "4\n",
      "6\n",
      "8\n",
      "10\n",
      "12\n",
      "14\n",
      "16\n",
      "18\n",
      "20\n",
      "22\n",
      "24\n",
      "26\n",
      "28\n",
      "30\n",
      "32\n",
      "34\n",
      "36\n",
      "38\n",
      "40\n",
      "42\n",
      "44\n",
      "46\n",
      "48\n",
      "50\n",
      "52\n",
      "54\n",
      "56\n",
      "58\n",
      "60\n",
      "62\n",
      "64\n",
      "66\n",
      "68\n",
      "70\n",
      "72\n",
      "74\n",
      "76\n",
      "78\n",
      "80\n",
      "82\n",
      "84\n",
      "86\n",
      "88\n",
      "90\n",
      "92\n",
      "94\n",
      "96\n",
      "98\n"
     ]
    }
   ],
   "source": [
    "x = 0\n",
    "while x < 100:\n",
    "    if x%2==0:\n",
    "        print(x)\n",
    "    x+=1"
   ]
  },
  {
   "cell_type": "markdown",
   "metadata": {},
   "source": [
    "3.Write a program to print all natural numbers in reverse (from n to 1). - using while loop"
   ]
  },
  {
   "cell_type": "code",
   "execution_count": 5,
   "metadata": {},
   "outputs": [
    {
     "name": "stdout",
     "output_type": "stream",
     "text": [
      "Enter n value:10\n",
      "10\n",
      "9\n",
      "8\n",
      "7\n",
      "6\n",
      "5\n",
      "4\n",
      "3\n",
      "2\n",
      "1\n"
     ]
    }
   ],
   "source": [
    "n=int(input(\"Enter n value:\"))\n",
    "for i in range(n,0,-1):\n",
    "    print(i)"
   ]
  },
  {
   "cell_type": "markdown",
   "metadata": {},
   "source": [
    "4.Write a program to print all natural numbers from 1 to n. - using while loop"
   ]
  },
  {
   "cell_type": "code",
   "execution_count": 8,
   "metadata": {},
   "outputs": [
    {
     "name": "stdout",
     "output_type": "stream",
     "text": [
      "Enter n value:5\n",
      "15\n"
     ]
    }
   ],
   "source": [
    "import math\n",
    "lst=[]\n",
    "n=int(input(\"Enter n value:\"))\n",
    "for i in range(0,n):\n",
    "    elements=range(0,n+1)\n",
    "    lst.append(elements)\n",
    "print(sum(elements))"
   ]
  },
  {
   "cell_type": "markdown",
   "metadata": {},
   "source": [
    "5.Write a program to find sum of all natural numbers between 1 to n."
   ]
  },
  {
   "cell_type": "code",
   "execution_count": 11,
   "metadata": {},
   "outputs": [
    {
     "name": "stdout",
     "output_type": "stream",
     "text": [
      "Enter n value:5\n",
      "15\n"
     ]
    }
   ],
   "source": [
    "import math\n",
    "lst=[]\n",
    "n=int(input(\"Enter n value:\"))\n",
    "\n",
    "x = 0\n",
    "\n",
    "while x <=n:\n",
    "    elements=range(0,n+1)\n",
    "    lst.append(elements)\n",
    "    x+=1\n",
    "print(sum(elements))"
   ]
  },
  {
   "cell_type": "markdown",
   "metadata": {},
   "source": [
    "6.Write a program to print all Prime numbers between 1 to n."
   ]
  },
  {
   "cell_type": "code",
   "execution_count": 14,
   "metadata": {},
   "outputs": [
    {
     "name": "stdout",
     "output_type": "stream",
     "text": [
      "Enter n value:10000\n",
      "The number 2 is a prime number\n",
      "The number 3 is a prime number\n",
      "The number 5 is a prime number\n",
      "The number 7 is a prime number\n",
      "The number 11 is a prime number\n",
      "The number 13 is a prime number\n",
      "The number 17 is a prime number\n",
      "The number 19 is a prime number\n",
      "The number 23 is a prime number\n",
      "The number 29 is a prime number\n",
      "The number 31 is a prime number\n",
      "The number 37 is a prime number\n",
      "The number 41 is a prime number\n",
      "The number 43 is a prime number\n",
      "The number 47 is a prime number\n",
      "The number 53 is a prime number\n",
      "The number 59 is a prime number\n",
      "The number 61 is a prime number\n",
      "The number 67 is a prime number\n",
      "The number 71 is a prime number\n",
      "The number 73 is a prime number\n",
      "The number 79 is a prime number\n",
      "The number 83 is a prime number\n",
      "The number 89 is a prime number\n",
      "The number 97 is a prime number\n",
      "The number 101 is a prime number\n",
      "The number 103 is a prime number\n",
      "The number 107 is a prime number\n",
      "The number 109 is a prime number\n",
      "The number 113 is a prime number\n",
      "The number 127 is a prime number\n",
      "The number 131 is a prime number\n",
      "The number 137 is a prime number\n",
      "The number 139 is a prime number\n",
      "The number 149 is a prime number\n",
      "The number 151 is a prime number\n",
      "The number 157 is a prime number\n",
      "The number 163 is a prime number\n",
      "The number 167 is a prime number\n",
      "The number 173 is a prime number\n",
      "The number 179 is a prime number\n",
      "The number 181 is a prime number\n",
      "The number 191 is a prime number\n",
      "The number 193 is a prime number\n",
      "The number 197 is a prime number\n",
      "The number 199 is a prime number\n",
      "The number 211 is a prime number\n",
      "The number 223 is a prime number\n",
      "The number 227 is a prime number\n",
      "The number 229 is a prime number\n",
      "The number 233 is a prime number\n",
      "The number 239 is a prime number\n",
      "The number 241 is a prime number\n",
      "The number 251 is a prime number\n",
      "The number 257 is a prime number\n",
      "The number 263 is a prime number\n",
      "The number 269 is a prime number\n",
      "The number 271 is a prime number\n",
      "The number 277 is a prime number\n",
      "The number 281 is a prime number\n",
      "The number 283 is a prime number\n",
      "The number 293 is a prime number\n",
      "The number 307 is a prime number\n",
      "The number 311 is a prime number\n",
      "The number 313 is a prime number\n",
      "The number 317 is a prime number\n",
      "The number 331 is a prime number\n",
      "The number 337 is a prime number\n",
      "The number 347 is a prime number\n",
      "The number 349 is a prime number\n",
      "The number 353 is a prime number\n",
      "The number 359 is a prime number\n",
      "The number 367 is a prime number\n",
      "The number 373 is a prime number\n",
      "The number 379 is a prime number\n",
      "The number 383 is a prime number\n",
      "The number 389 is a prime number\n",
      "The number 397 is a prime number\n",
      "The number 401 is a prime number\n",
      "The number 409 is a prime number\n",
      "The number 419 is a prime number\n",
      "The number 421 is a prime number\n",
      "The number 431 is a prime number\n",
      "The number 433 is a prime number\n",
      "The number 439 is a prime number\n",
      "The number 443 is a prime number\n",
      "The number 449 is a prime number\n",
      "The number 457 is a prime number\n",
      "The number 461 is a prime number\n",
      "The number 463 is a prime number\n",
      "The number 467 is a prime number\n",
      "The number 479 is a prime number\n",
      "The number 487 is a prime number\n",
      "The number 491 is a prime number\n",
      "The number 499 is a prime number\n",
      "The number 503 is a prime number\n",
      "The number 509 is a prime number\n",
      "The number 521 is a prime number\n",
      "The number 523 is a prime number\n",
      "The number 541 is a prime number\n",
      "The number 547 is a prime number\n",
      "The number 557 is a prime number\n",
      "The number 563 is a prime number\n",
      "The number 569 is a prime number\n",
      "The number 571 is a prime number\n",
      "The number 577 is a prime number\n",
      "The number 587 is a prime number\n",
      "The number 593 is a prime number\n",
      "The number 599 is a prime number\n",
      "The number 601 is a prime number\n",
      "The number 607 is a prime number\n",
      "The number 613 is a prime number\n",
      "The number 617 is a prime number\n",
      "The number 619 is a prime number\n",
      "The number 631 is a prime number\n",
      "The number 641 is a prime number\n",
      "The number 643 is a prime number\n",
      "The number 647 is a prime number\n",
      "The number 653 is a prime number\n",
      "The number 659 is a prime number\n",
      "The number 661 is a prime number\n",
      "The number 673 is a prime number\n",
      "The number 677 is a prime number\n",
      "The number 683 is a prime number\n",
      "The number 691 is a prime number\n",
      "The number 701 is a prime number\n",
      "The number 709 is a prime number\n",
      "The number 719 is a prime number\n",
      "The number 727 is a prime number\n",
      "The number 733 is a prime number\n",
      "The number 739 is a prime number\n",
      "The number 743 is a prime number\n",
      "The number 751 is a prime number\n",
      "The number 757 is a prime number\n",
      "The number 761 is a prime number\n",
      "The number 769 is a prime number\n",
      "The number 773 is a prime number\n",
      "The number 787 is a prime number\n",
      "The number 797 is a prime number\n",
      "The number 809 is a prime number\n",
      "The number 811 is a prime number\n",
      "The number 821 is a prime number\n",
      "The number 823 is a prime number\n",
      "The number 827 is a prime number\n",
      "The number 829 is a prime number\n",
      "The number 839 is a prime number\n",
      "The number 853 is a prime number\n",
      "The number 857 is a prime number\n",
      "The number 859 is a prime number\n",
      "The number 863 is a prime number\n",
      "The number 877 is a prime number\n",
      "The number 881 is a prime number\n",
      "The number 883 is a prime number\n",
      "The number 887 is a prime number\n",
      "The number 907 is a prime number\n",
      "The number 911 is a prime number\n",
      "The number 919 is a prime number\n",
      "The number 929 is a prime number\n",
      "The number 937 is a prime number\n",
      "The number 941 is a prime number\n",
      "The number 947 is a prime number\n",
      "The number 953 is a prime number\n",
      "The number 967 is a prime number\n",
      "The number 971 is a prime number\n",
      "The number 977 is a prime number\n",
      "The number 983 is a prime number\n",
      "The number 991 is a prime number\n",
      "The number 997 is a prime number\n",
      "The number 1009 is a prime number\n",
      "The number 1013 is a prime number\n",
      "The number 1019 is a prime number\n",
      "The number 1021 is a prime number\n",
      "The number 1031 is a prime number\n",
      "The number 1033 is a prime number\n",
      "The number 1039 is a prime number\n",
      "The number 1049 is a prime number\n",
      "The number 1051 is a prime number\n",
      "The number 1061 is a prime number\n",
      "The number 1063 is a prime number\n",
      "The number 1069 is a prime number\n",
      "The number 1087 is a prime number\n",
      "The number 1091 is a prime number\n",
      "The number 1093 is a prime number\n",
      "The number 1097 is a prime number\n",
      "The number 1103 is a prime number\n",
      "The number 1109 is a prime number\n",
      "The number 1117 is a prime number\n",
      "The number 1123 is a prime number\n",
      "The number 1129 is a prime number\n",
      "The number 1151 is a prime number\n",
      "The number 1153 is a prime number\n",
      "The number 1163 is a prime number\n",
      "The number 1171 is a prime number\n",
      "The number 1181 is a prime number\n",
      "The number 1187 is a prime number\n",
      "The number 1193 is a prime number\n",
      "The number 1201 is a prime number\n",
      "The number 1213 is a prime number\n",
      "The number 1217 is a prime number\n",
      "The number 1223 is a prime number\n",
      "The number 1229 is a prime number\n",
      "The number 1231 is a prime number\n",
      "The number 1237 is a prime number\n",
      "The number 1249 is a prime number\n",
      "The number 1259 is a prime number\n",
      "The number 1277 is a prime number\n",
      "The number 1279 is a prime number\n",
      "The number 1283 is a prime number\n",
      "The number 1289 is a prime number\n",
      "The number 1291 is a prime number\n",
      "The number 1297 is a prime number\n",
      "The number 1301 is a prime number\n",
      "The number 1303 is a prime number\n",
      "The number 1307 is a prime number\n",
      "The number 1319 is a prime number\n",
      "The number 1321 is a prime number\n",
      "The number 1327 is a prime number\n",
      "The number 1361 is a prime number\n",
      "The number 1367 is a prime number\n",
      "The number 1373 is a prime number\n",
      "The number 1381 is a prime number\n",
      "The number 1399 is a prime number\n",
      "The number 1409 is a prime number\n",
      "The number 1423 is a prime number\n",
      "The number 1427 is a prime number\n",
      "The number 1429 is a prime number\n",
      "The number 1433 is a prime number\n",
      "The number 1439 is a prime number\n",
      "The number 1447 is a prime number\n",
      "The number 1451 is a prime number\n",
      "The number 1453 is a prime number\n",
      "The number 1459 is a prime number\n",
      "The number 1471 is a prime number\n",
      "The number 1481 is a prime number\n",
      "The number 1483 is a prime number\n",
      "The number 1487 is a prime number\n",
      "The number 1489 is a prime number\n",
      "The number 1493 is a prime number\n",
      "The number 1499 is a prime number\n",
      "The number 1511 is a prime number\n",
      "The number 1523 is a prime number\n",
      "The number 1531 is a prime number\n",
      "The number 1543 is a prime number\n",
      "The number 1549 is a prime number\n",
      "The number 1553 is a prime number\n",
      "The number 1559 is a prime number\n",
      "The number 1567 is a prime number\n",
      "The number 1571 is a prime number\n",
      "The number 1579 is a prime number\n",
      "The number 1583 is a prime number\n",
      "The number 1597 is a prime number\n",
      "The number 1601 is a prime number\n",
      "The number 1607 is a prime number\n",
      "The number 1609 is a prime number\n",
      "The number 1613 is a prime number\n",
      "The number 1619 is a prime number\n",
      "The number 1621 is a prime number\n",
      "The number 1627 is a prime number\n",
      "The number 1637 is a prime number\n",
      "The number 1657 is a prime number\n",
      "The number 1663 is a prime number\n",
      "The number 1667 is a prime number\n",
      "The number 1669 is a prime number\n",
      "The number 1693 is a prime number\n",
      "The number 1697 is a prime number\n",
      "The number 1699 is a prime number\n",
      "The number 1709 is a prime number\n",
      "The number 1721 is a prime number\n",
      "The number 1723 is a prime number\n",
      "The number 1733 is a prime number\n",
      "The number 1741 is a prime number\n",
      "The number 1747 is a prime number\n",
      "The number 1753 is a prime number\n",
      "The number 1759 is a prime number\n",
      "The number 1777 is a prime number\n",
      "The number 1783 is a prime number\n",
      "The number 1787 is a prime number\n",
      "The number 1789 is a prime number\n",
      "The number 1801 is a prime number\n",
      "The number 1811 is a prime number\n",
      "The number 1823 is a prime number\n",
      "The number 1831 is a prime number\n",
      "The number 1847 is a prime number\n",
      "The number 1861 is a prime number\n",
      "The number 1867 is a prime number\n",
      "The number 1871 is a prime number\n",
      "The number 1873 is a prime number\n",
      "The number 1877 is a prime number\n",
      "The number 1879 is a prime number\n",
      "The number 1889 is a prime number\n",
      "The number 1901 is a prime number\n",
      "The number 1907 is a prime number\n",
      "The number 1913 is a prime number\n",
      "The number 1931 is a prime number\n",
      "The number 1933 is a prime number\n",
      "The number 1949 is a prime number\n",
      "The number 1951 is a prime number\n",
      "The number 1973 is a prime number\n",
      "The number 1979 is a prime number\n",
      "The number 1987 is a prime number\n",
      "The number 1993 is a prime number\n",
      "The number 1997 is a prime number\n",
      "The number 1999 is a prime number\n",
      "The number 2003 is a prime number\n",
      "The number 2011 is a prime number\n",
      "The number 2017 is a prime number\n",
      "The number 2027 is a prime number\n",
      "The number 2029 is a prime number\n",
      "The number 2039 is a prime number\n",
      "The number 2053 is a prime number\n",
      "The number 2063 is a prime number\n",
      "The number 2069 is a prime number\n",
      "The number 2081 is a prime number\n",
      "The number 2083 is a prime number\n",
      "The number 2087 is a prime number\n",
      "The number 2089 is a prime number\n",
      "The number 2099 is a prime number\n",
      "The number 2111 is a prime number\n",
      "The number 2113 is a prime number\n",
      "The number 2129 is a prime number\n",
      "The number 2131 is a prime number\n",
      "The number 2137 is a prime number\n",
      "The number 2141 is a prime number\n",
      "The number 2143 is a prime number\n",
      "The number 2153 is a prime number\n",
      "The number 2161 is a prime number\n",
      "The number 2179 is a prime number\n",
      "The number 2203 is a prime number\n",
      "The number 2207 is a prime number\n",
      "The number 2213 is a prime number\n",
      "The number 2221 is a prime number\n",
      "The number 2237 is a prime number\n",
      "The number 2239 is a prime number\n",
      "The number 2243 is a prime number\n",
      "The number 2251 is a prime number\n",
      "The number 2267 is a prime number\n",
      "The number 2269 is a prime number\n",
      "The number 2273 is a prime number\n",
      "The number 2281 is a prime number\n",
      "The number 2287 is a prime number\n",
      "The number 2293 is a prime number\n",
      "The number 2297 is a prime number\n",
      "The number 2309 is a prime number\n",
      "The number 2311 is a prime number\n",
      "The number 2333 is a prime number\n",
      "The number 2339 is a prime number\n",
      "The number 2341 is a prime number\n",
      "The number 2347 is a prime number\n",
      "The number 2351 is a prime number\n",
      "The number 2357 is a prime number\n",
      "The number 2371 is a prime number\n",
      "The number 2377 is a prime number\n",
      "The number 2381 is a prime number\n",
      "The number 2383 is a prime number\n",
      "The number 2389 is a prime number\n",
      "The number 2393 is a prime number\n",
      "The number 2399 is a prime number\n",
      "The number 2411 is a prime number\n",
      "The number 2417 is a prime number\n",
      "The number 2423 is a prime number\n",
      "The number 2437 is a prime number\n",
      "The number 2441 is a prime number\n",
      "The number 2447 is a prime number\n",
      "The number 2459 is a prime number\n",
      "The number 2467 is a prime number\n",
      "The number 2473 is a prime number\n",
      "The number 2477 is a prime number\n",
      "The number 2503 is a prime number\n",
      "The number 2521 is a prime number\n",
      "The number 2531 is a prime number\n",
      "The number 2539 is a prime number\n",
      "The number 2543 is a prime number\n",
      "The number 2549 is a prime number\n",
      "The number 2551 is a prime number\n",
      "The number 2557 is a prime number\n",
      "The number 2579 is a prime number\n",
      "The number 2591 is a prime number\n",
      "The number 2593 is a prime number\n",
      "The number 2609 is a prime number\n"
     ]
    },
    {
     "name": "stdout",
     "output_type": "stream",
     "text": [
      "The number 2617 is a prime number\n",
      "The number 2621 is a prime number\n",
      "The number 2633 is a prime number\n",
      "The number 2647 is a prime number\n",
      "The number 2657 is a prime number\n",
      "The number 2659 is a prime number\n",
      "The number 2663 is a prime number\n",
      "The number 2671 is a prime number\n",
      "The number 2677 is a prime number\n",
      "The number 2683 is a prime number\n",
      "The number 2687 is a prime number\n",
      "The number 2689 is a prime number\n",
      "The number 2693 is a prime number\n",
      "The number 2699 is a prime number\n",
      "The number 2707 is a prime number\n",
      "The number 2711 is a prime number\n",
      "The number 2713 is a prime number\n",
      "The number 2719 is a prime number\n",
      "The number 2729 is a prime number\n",
      "The number 2731 is a prime number\n",
      "The number 2741 is a prime number\n",
      "The number 2749 is a prime number\n",
      "The number 2753 is a prime number\n",
      "The number 2767 is a prime number\n",
      "The number 2777 is a prime number\n",
      "The number 2789 is a prime number\n",
      "The number 2791 is a prime number\n",
      "The number 2797 is a prime number\n",
      "The number 2801 is a prime number\n",
      "The number 2803 is a prime number\n",
      "The number 2819 is a prime number\n",
      "The number 2833 is a prime number\n",
      "The number 2837 is a prime number\n",
      "The number 2843 is a prime number\n",
      "The number 2851 is a prime number\n",
      "The number 2857 is a prime number\n",
      "The number 2861 is a prime number\n",
      "The number 2879 is a prime number\n",
      "The number 2887 is a prime number\n",
      "The number 2897 is a prime number\n",
      "The number 2903 is a prime number\n",
      "The number 2909 is a prime number\n",
      "The number 2917 is a prime number\n",
      "The number 2927 is a prime number\n",
      "The number 2939 is a prime number\n",
      "The number 2953 is a prime number\n",
      "The number 2957 is a prime number\n",
      "The number 2963 is a prime number\n",
      "The number 2969 is a prime number\n",
      "The number 2971 is a prime number\n",
      "The number 2999 is a prime number\n",
      "The number 3001 is a prime number\n",
      "The number 3011 is a prime number\n",
      "The number 3019 is a prime number\n",
      "The number 3023 is a prime number\n",
      "The number 3037 is a prime number\n",
      "The number 3041 is a prime number\n",
      "The number 3049 is a prime number\n",
      "The number 3061 is a prime number\n",
      "The number 3067 is a prime number\n",
      "The number 3079 is a prime number\n",
      "The number 3083 is a prime number\n",
      "The number 3089 is a prime number\n",
      "The number 3109 is a prime number\n",
      "The number 3119 is a prime number\n",
      "The number 3121 is a prime number\n",
      "The number 3137 is a prime number\n",
      "The number 3163 is a prime number\n",
      "The number 3167 is a prime number\n",
      "The number 3169 is a prime number\n",
      "The number 3181 is a prime number\n",
      "The number 3187 is a prime number\n",
      "The number 3191 is a prime number\n",
      "The number 3203 is a prime number\n",
      "The number 3209 is a prime number\n",
      "The number 3217 is a prime number\n",
      "The number 3221 is a prime number\n",
      "The number 3229 is a prime number\n",
      "The number 3251 is a prime number\n",
      "The number 3253 is a prime number\n",
      "The number 3257 is a prime number\n",
      "The number 3259 is a prime number\n",
      "The number 3271 is a prime number\n",
      "The number 3299 is a prime number\n",
      "The number 3301 is a prime number\n",
      "The number 3307 is a prime number\n",
      "The number 3313 is a prime number\n",
      "The number 3319 is a prime number\n",
      "The number 3323 is a prime number\n",
      "The number 3329 is a prime number\n",
      "The number 3331 is a prime number\n",
      "The number 3343 is a prime number\n",
      "The number 3347 is a prime number\n",
      "The number 3359 is a prime number\n",
      "The number 3361 is a prime number\n",
      "The number 3371 is a prime number\n",
      "The number 3373 is a prime number\n",
      "The number 3389 is a prime number\n",
      "The number 3391 is a prime number\n",
      "The number 3407 is a prime number\n",
      "The number 3413 is a prime number\n",
      "The number 3433 is a prime number\n",
      "The number 3449 is a prime number\n",
      "The number 3457 is a prime number\n",
      "The number 3461 is a prime number\n",
      "The number 3463 is a prime number\n",
      "The number 3467 is a prime number\n",
      "The number 3469 is a prime number\n",
      "The number 3491 is a prime number\n",
      "The number 3499 is a prime number\n",
      "The number 3511 is a prime number\n",
      "The number 3517 is a prime number\n",
      "The number 3527 is a prime number\n",
      "The number 3529 is a prime number\n",
      "The number 3533 is a prime number\n",
      "The number 3539 is a prime number\n",
      "The number 3541 is a prime number\n",
      "The number 3547 is a prime number\n",
      "The number 3557 is a prime number\n",
      "The number 3559 is a prime number\n",
      "The number 3571 is a prime number\n",
      "The number 3581 is a prime number\n",
      "The number 3583 is a prime number\n",
      "The number 3593 is a prime number\n",
      "The number 3607 is a prime number\n",
      "The number 3613 is a prime number\n",
      "The number 3617 is a prime number\n",
      "The number 3623 is a prime number\n",
      "The number 3631 is a prime number\n",
      "The number 3637 is a prime number\n",
      "The number 3643 is a prime number\n",
      "The number 3659 is a prime number\n",
      "The number 3671 is a prime number\n",
      "The number 3673 is a prime number\n",
      "The number 3677 is a prime number\n",
      "The number 3691 is a prime number\n",
      "The number 3697 is a prime number\n",
      "The number 3701 is a prime number\n",
      "The number 3709 is a prime number\n",
      "The number 3719 is a prime number\n",
      "The number 3727 is a prime number\n",
      "The number 3733 is a prime number\n",
      "The number 3739 is a prime number\n",
      "The number 3761 is a prime number\n",
      "The number 3767 is a prime number\n",
      "The number 3769 is a prime number\n",
      "The number 3779 is a prime number\n",
      "The number 3793 is a prime number\n",
      "The number 3797 is a prime number\n",
      "The number 3803 is a prime number\n",
      "The number 3821 is a prime number\n",
      "The number 3823 is a prime number\n",
      "The number 3833 is a prime number\n",
      "The number 3847 is a prime number\n",
      "The number 3851 is a prime number\n",
      "The number 3853 is a prime number\n",
      "The number 3863 is a prime number\n",
      "The number 3877 is a prime number\n",
      "The number 3881 is a prime number\n",
      "The number 3889 is a prime number\n",
      "The number 3907 is a prime number\n",
      "The number 3911 is a prime number\n",
      "The number 3917 is a prime number\n",
      "The number 3919 is a prime number\n",
      "The number 3923 is a prime number\n",
      "The number 3929 is a prime number\n",
      "The number 3931 is a prime number\n",
      "The number 3943 is a prime number\n",
      "The number 3947 is a prime number\n",
      "The number 3967 is a prime number\n",
      "The number 3989 is a prime number\n",
      "The number 4001 is a prime number\n",
      "The number 4003 is a prime number\n",
      "The number 4007 is a prime number\n",
      "The number 4013 is a prime number\n",
      "The number 4019 is a prime number\n",
      "The number 4021 is a prime number\n",
      "The number 4027 is a prime number\n",
      "The number 4049 is a prime number\n",
      "The number 4051 is a prime number\n",
      "The number 4057 is a prime number\n",
      "The number 4073 is a prime number\n",
      "The number 4079 is a prime number\n",
      "The number 4091 is a prime number\n",
      "The number 4093 is a prime number\n",
      "The number 4099 is a prime number\n",
      "The number 4111 is a prime number\n",
      "The number 4127 is a prime number\n",
      "The number 4129 is a prime number\n",
      "The number 4133 is a prime number\n",
      "The number 4139 is a prime number\n",
      "The number 4153 is a prime number\n",
      "The number 4157 is a prime number\n",
      "The number 4159 is a prime number\n",
      "The number 4177 is a prime number\n",
      "The number 4201 is a prime number\n",
      "The number 4211 is a prime number\n",
      "The number 4217 is a prime number\n",
      "The number 4219 is a prime number\n",
      "The number 4229 is a prime number\n",
      "The number 4231 is a prime number\n",
      "The number 4241 is a prime number\n",
      "The number 4243 is a prime number\n",
      "The number 4253 is a prime number\n",
      "The number 4259 is a prime number\n",
      "The number 4261 is a prime number\n",
      "The number 4271 is a prime number\n",
      "The number 4273 is a prime number\n",
      "The number 4283 is a prime number\n",
      "The number 4289 is a prime number\n",
      "The number 4297 is a prime number\n",
      "The number 4327 is a prime number\n",
      "The number 4337 is a prime number\n",
      "The number 4339 is a prime number\n",
      "The number 4349 is a prime number\n",
      "The number 4357 is a prime number\n",
      "The number 4363 is a prime number\n",
      "The number 4373 is a prime number\n",
      "The number 4391 is a prime number\n",
      "The number 4397 is a prime number\n",
      "The number 4409 is a prime number\n",
      "The number 4421 is a prime number\n",
      "The number 4423 is a prime number\n",
      "The number 4441 is a prime number\n",
      "The number 4447 is a prime number\n",
      "The number 4451 is a prime number\n",
      "The number 4457 is a prime number\n",
      "The number 4463 is a prime number\n",
      "The number 4481 is a prime number\n",
      "The number 4483 is a prime number\n",
      "The number 4493 is a prime number\n",
      "The number 4507 is a prime number\n",
      "The number 4513 is a prime number\n",
      "The number 4517 is a prime number\n",
      "The number 4519 is a prime number\n",
      "The number 4523 is a prime number\n",
      "The number 4547 is a prime number\n",
      "The number 4549 is a prime number\n",
      "The number 4561 is a prime number\n",
      "The number 4567 is a prime number\n",
      "The number 4583 is a prime number\n",
      "The number 4591 is a prime number\n",
      "The number 4597 is a prime number\n",
      "The number 4603 is a prime number\n",
      "The number 4621 is a prime number\n",
      "The number 4637 is a prime number\n",
      "The number 4639 is a prime number\n",
      "The number 4643 is a prime number\n",
      "The number 4649 is a prime number\n",
      "The number 4651 is a prime number\n",
      "The number 4657 is a prime number\n",
      "The number 4663 is a prime number\n",
      "The number 4673 is a prime number\n",
      "The number 4679 is a prime number\n",
      "The number 4691 is a prime number\n",
      "The number 4703 is a prime number\n",
      "The number 4721 is a prime number\n",
      "The number 4723 is a prime number\n",
      "The number 4729 is a prime number\n",
      "The number 4733 is a prime number\n",
      "The number 4751 is a prime number\n",
      "The number 4759 is a prime number\n",
      "The number 4783 is a prime number\n",
      "The number 4787 is a prime number\n",
      "The number 4789 is a prime number\n",
      "The number 4793 is a prime number\n",
      "The number 4799 is a prime number\n",
      "The number 4801 is a prime number\n",
      "The number 4813 is a prime number\n",
      "The number 4817 is a prime number\n",
      "The number 4831 is a prime number\n",
      "The number 4861 is a prime number\n",
      "The number 4871 is a prime number\n",
      "The number 4877 is a prime number\n",
      "The number 4889 is a prime number\n",
      "The number 4903 is a prime number\n",
      "The number 4909 is a prime number\n",
      "The number 4919 is a prime number\n",
      "The number 4931 is a prime number\n",
      "The number 4933 is a prime number\n",
      "The number 4937 is a prime number\n",
      "The number 4943 is a prime number\n",
      "The number 4951 is a prime number\n",
      "The number 4957 is a prime number\n",
      "The number 4967 is a prime number\n",
      "The number 4969 is a prime number\n",
      "The number 4973 is a prime number\n",
      "The number 4987 is a prime number\n",
      "The number 4993 is a prime number\n",
      "The number 4999 is a prime number\n",
      "The number 5003 is a prime number\n",
      "The number 5009 is a prime number\n",
      "The number 5011 is a prime number\n",
      "The number 5021 is a prime number\n",
      "The number 5023 is a prime number\n",
      "The number 5039 is a prime number\n",
      "The number 5051 is a prime number\n",
      "The number 5059 is a prime number\n",
      "The number 5077 is a prime number\n",
      "The number 5081 is a prime number\n",
      "The number 5087 is a prime number\n",
      "The number 5099 is a prime number\n",
      "The number 5101 is a prime number\n",
      "The number 5107 is a prime number\n",
      "The number 5113 is a prime number\n",
      "The number 5119 is a prime number\n",
      "The number 5147 is a prime number\n",
      "The number 5153 is a prime number\n",
      "The number 5167 is a prime number\n",
      "The number 5171 is a prime number\n",
      "The number 5179 is a prime number\n",
      "The number 5189 is a prime number\n",
      "The number 5197 is a prime number\n",
      "The number 5209 is a prime number\n",
      "The number 5227 is a prime number\n",
      "The number 5231 is a prime number\n",
      "The number 5233 is a prime number\n",
      "The number 5237 is a prime number\n",
      "The number 5261 is a prime number\n",
      "The number 5273 is a prime number\n",
      "The number 5279 is a prime number\n",
      "The number 5281 is a prime number\n",
      "The number 5297 is a prime number\n",
      "The number 5303 is a prime number\n",
      "The number 5309 is a prime number\n",
      "The number 5323 is a prime number\n",
      "The number 5333 is a prime number\n",
      "The number 5347 is a prime number\n",
      "The number 5351 is a prime number\n",
      "The number 5381 is a prime number\n",
      "The number 5387 is a prime number\n",
      "The number 5393 is a prime number\n",
      "The number 5399 is a prime number\n",
      "The number 5407 is a prime number\n",
      "The number 5413 is a prime number\n",
      "The number 5417 is a prime number\n",
      "The number 5419 is a prime number\n",
      "The number 5431 is a prime number\n",
      "The number 5437 is a prime number\n",
      "The number 5441 is a prime number\n",
      "The number 5443 is a prime number\n",
      "The number 5449 is a prime number\n",
      "The number 5471 is a prime number\n",
      "The number 5477 is a prime number\n",
      "The number 5479 is a prime number\n",
      "The number 5483 is a prime number\n",
      "The number 5501 is a prime number\n",
      "The number 5503 is a prime number\n",
      "The number 5507 is a prime number\n",
      "The number 5519 is a prime number\n"
     ]
    },
    {
     "name": "stdout",
     "output_type": "stream",
     "text": [
      "The number 5521 is a prime number\n",
      "The number 5527 is a prime number\n",
      "The number 5531 is a prime number\n",
      "The number 5557 is a prime number\n",
      "The number 5563 is a prime number\n",
      "The number 5569 is a prime number\n",
      "The number 5573 is a prime number\n",
      "The number 5581 is a prime number\n",
      "The number 5591 is a prime number\n",
      "The number 5623 is a prime number\n",
      "The number 5639 is a prime number\n",
      "The number 5641 is a prime number\n",
      "The number 5647 is a prime number\n",
      "The number 5651 is a prime number\n",
      "The number 5653 is a prime number\n",
      "The number 5657 is a prime number\n",
      "The number 5659 is a prime number\n",
      "The number 5669 is a prime number\n",
      "The number 5683 is a prime number\n",
      "The number 5689 is a prime number\n",
      "The number 5693 is a prime number\n",
      "The number 5701 is a prime number\n",
      "The number 5711 is a prime number\n",
      "The number 5717 is a prime number\n",
      "The number 5737 is a prime number\n",
      "The number 5741 is a prime number\n",
      "The number 5743 is a prime number\n",
      "The number 5749 is a prime number\n",
      "The number 5779 is a prime number\n",
      "The number 5783 is a prime number\n",
      "The number 5791 is a prime number\n",
      "The number 5801 is a prime number\n",
      "The number 5807 is a prime number\n",
      "The number 5813 is a prime number\n",
      "The number 5821 is a prime number\n",
      "The number 5827 is a prime number\n",
      "The number 5839 is a prime number\n",
      "The number 5843 is a prime number\n",
      "The number 5849 is a prime number\n",
      "The number 5851 is a prime number\n",
      "The number 5857 is a prime number\n",
      "The number 5861 is a prime number\n",
      "The number 5867 is a prime number\n",
      "The number 5869 is a prime number\n",
      "The number 5879 is a prime number\n",
      "The number 5881 is a prime number\n",
      "The number 5897 is a prime number\n",
      "The number 5903 is a prime number\n",
      "The number 5923 is a prime number\n",
      "The number 5927 is a prime number\n",
      "The number 5939 is a prime number\n",
      "The number 5953 is a prime number\n",
      "The number 5981 is a prime number\n",
      "The number 5987 is a prime number\n",
      "The number 6007 is a prime number\n",
      "The number 6011 is a prime number\n",
      "The number 6029 is a prime number\n",
      "The number 6037 is a prime number\n",
      "The number 6043 is a prime number\n",
      "The number 6047 is a prime number\n",
      "The number 6053 is a prime number\n",
      "The number 6067 is a prime number\n",
      "The number 6073 is a prime number\n",
      "The number 6079 is a prime number\n",
      "The number 6089 is a prime number\n",
      "The number 6091 is a prime number\n",
      "The number 6101 is a prime number\n",
      "The number 6113 is a prime number\n",
      "The number 6121 is a prime number\n",
      "The number 6131 is a prime number\n",
      "The number 6133 is a prime number\n",
      "The number 6143 is a prime number\n",
      "The number 6151 is a prime number\n",
      "The number 6163 is a prime number\n",
      "The number 6173 is a prime number\n",
      "The number 6197 is a prime number\n",
      "The number 6199 is a prime number\n",
      "The number 6203 is a prime number\n",
      "The number 6211 is a prime number\n",
      "The number 6217 is a prime number\n",
      "The number 6221 is a prime number\n",
      "The number 6229 is a prime number\n",
      "The number 6247 is a prime number\n",
      "The number 6257 is a prime number\n",
      "The number 6263 is a prime number\n",
      "The number 6269 is a prime number\n",
      "The number 6271 is a prime number\n",
      "The number 6277 is a prime number\n",
      "The number 6287 is a prime number\n",
      "The number 6299 is a prime number\n",
      "The number 6301 is a prime number\n",
      "The number 6311 is a prime number\n",
      "The number 6317 is a prime number\n",
      "The number 6323 is a prime number\n",
      "The number 6329 is a prime number\n",
      "The number 6337 is a prime number\n",
      "The number 6343 is a prime number\n",
      "The number 6353 is a prime number\n",
      "The number 6359 is a prime number\n",
      "The number 6361 is a prime number\n",
      "The number 6367 is a prime number\n",
      "The number 6373 is a prime number\n",
      "The number 6379 is a prime number\n",
      "The number 6389 is a prime number\n",
      "The number 6397 is a prime number\n",
      "The number 6421 is a prime number\n",
      "The number 6427 is a prime number\n",
      "The number 6449 is a prime number\n",
      "The number 6451 is a prime number\n",
      "The number 6469 is a prime number\n",
      "The number 6473 is a prime number\n",
      "The number 6481 is a prime number\n",
      "The number 6491 is a prime number\n",
      "The number 6521 is a prime number\n",
      "The number 6529 is a prime number\n",
      "The number 6547 is a prime number\n",
      "The number 6551 is a prime number\n",
      "The number 6553 is a prime number\n",
      "The number 6563 is a prime number\n",
      "The number 6569 is a prime number\n",
      "The number 6571 is a prime number\n",
      "The number 6577 is a prime number\n",
      "The number 6581 is a prime number\n",
      "The number 6599 is a prime number\n",
      "The number 6607 is a prime number\n",
      "The number 6619 is a prime number\n",
      "The number 6637 is a prime number\n",
      "The number 6653 is a prime number\n",
      "The number 6659 is a prime number\n",
      "The number 6661 is a prime number\n",
      "The number 6673 is a prime number\n",
      "The number 6679 is a prime number\n",
      "The number 6689 is a prime number\n",
      "The number 6691 is a prime number\n",
      "The number 6701 is a prime number\n",
      "The number 6703 is a prime number\n",
      "The number 6709 is a prime number\n",
      "The number 6719 is a prime number\n",
      "The number 6733 is a prime number\n",
      "The number 6737 is a prime number\n",
      "The number 6761 is a prime number\n",
      "The number 6763 is a prime number\n",
      "The number 6779 is a prime number\n",
      "The number 6781 is a prime number\n",
      "The number 6791 is a prime number\n",
      "The number 6793 is a prime number\n",
      "The number 6803 is a prime number\n",
      "The number 6823 is a prime number\n",
      "The number 6827 is a prime number\n",
      "The number 6829 is a prime number\n",
      "The number 6833 is a prime number\n",
      "The number 6841 is a prime number\n",
      "The number 6857 is a prime number\n",
      "The number 6863 is a prime number\n",
      "The number 6869 is a prime number\n",
      "The number 6871 is a prime number\n",
      "The number 6883 is a prime number\n",
      "The number 6899 is a prime number\n",
      "The number 6907 is a prime number\n",
      "The number 6911 is a prime number\n",
      "The number 6917 is a prime number\n",
      "The number 6947 is a prime number\n",
      "The number 6949 is a prime number\n",
      "The number 6959 is a prime number\n",
      "The number 6961 is a prime number\n",
      "The number 6967 is a prime number\n",
      "The number 6971 is a prime number\n",
      "The number 6977 is a prime number\n",
      "The number 6983 is a prime number\n",
      "The number 6991 is a prime number\n",
      "The number 6997 is a prime number\n",
      "The number 7001 is a prime number\n",
      "The number 7013 is a prime number\n",
      "The number 7019 is a prime number\n",
      "The number 7027 is a prime number\n",
      "The number 7039 is a prime number\n",
      "The number 7043 is a prime number\n",
      "The number 7057 is a prime number\n",
      "The number 7069 is a prime number\n",
      "The number 7079 is a prime number\n",
      "The number 7103 is a prime number\n",
      "The number 7109 is a prime number\n",
      "The number 7121 is a prime number\n",
      "The number 7127 is a prime number\n",
      "The number 7129 is a prime number\n",
      "The number 7151 is a prime number\n",
      "The number 7159 is a prime number\n",
      "The number 7177 is a prime number\n",
      "The number 7187 is a prime number\n",
      "The number 7193 is a prime number\n",
      "The number 7207 is a prime number\n",
      "The number 7211 is a prime number\n",
      "The number 7213 is a prime number\n",
      "The number 7219 is a prime number\n",
      "The number 7229 is a prime number\n",
      "The number 7237 is a prime number\n",
      "The number 7243 is a prime number\n",
      "The number 7247 is a prime number\n",
      "The number 7253 is a prime number\n",
      "The number 7283 is a prime number\n",
      "The number 7297 is a prime number\n",
      "The number 7307 is a prime number\n",
      "The number 7309 is a prime number\n",
      "The number 7321 is a prime number\n",
      "The number 7331 is a prime number\n",
      "The number 7333 is a prime number\n",
      "The number 7349 is a prime number\n",
      "The number 7351 is a prime number\n",
      "The number 7369 is a prime number\n",
      "The number 7393 is a prime number\n",
      "The number 7411 is a prime number\n",
      "The number 7417 is a prime number\n",
      "The number 7433 is a prime number\n",
      "The number 7451 is a prime number\n",
      "The number 7457 is a prime number\n",
      "The number 7459 is a prime number\n",
      "The number 7477 is a prime number\n",
      "The number 7481 is a prime number\n",
      "The number 7487 is a prime number\n",
      "The number 7489 is a prime number\n",
      "The number 7499 is a prime number\n",
      "The number 7507 is a prime number\n",
      "The number 7517 is a prime number\n",
      "The number 7523 is a prime number\n",
      "The number 7529 is a prime number\n",
      "The number 7537 is a prime number\n",
      "The number 7541 is a prime number\n",
      "The number 7547 is a prime number\n",
      "The number 7549 is a prime number\n",
      "The number 7559 is a prime number\n",
      "The number 7561 is a prime number\n",
      "The number 7573 is a prime number\n",
      "The number 7577 is a prime number\n",
      "The number 7583 is a prime number\n",
      "The number 7589 is a prime number\n",
      "The number 7591 is a prime number\n",
      "The number 7603 is a prime number\n",
      "The number 7607 is a prime number\n",
      "The number 7621 is a prime number\n",
      "The number 7639 is a prime number\n",
      "The number 7643 is a prime number\n",
      "The number 7649 is a prime number\n",
      "The number 7669 is a prime number\n",
      "The number 7673 is a prime number\n",
      "The number 7681 is a prime number\n",
      "The number 7687 is a prime number\n",
      "The number 7691 is a prime number\n",
      "The number 7699 is a prime number\n",
      "The number 7703 is a prime number\n",
      "The number 7717 is a prime number\n",
      "The number 7723 is a prime number\n",
      "The number 7727 is a prime number\n",
      "The number 7741 is a prime number\n",
      "The number 7753 is a prime number\n",
      "The number 7757 is a prime number\n",
      "The number 7759 is a prime number\n",
      "The number 7789 is a prime number\n",
      "The number 7793 is a prime number\n",
      "The number 7817 is a prime number\n",
      "The number 7823 is a prime number\n",
      "The number 7829 is a prime number\n",
      "The number 7841 is a prime number\n",
      "The number 7853 is a prime number\n",
      "The number 7867 is a prime number\n",
      "The number 7873 is a prime number\n",
      "The number 7877 is a prime number\n",
      "The number 7879 is a prime number\n",
      "The number 7883 is a prime number\n",
      "The number 7901 is a prime number\n",
      "The number 7907 is a prime number\n",
      "The number 7919 is a prime number\n",
      "The number 7927 is a prime number\n",
      "The number 7933 is a prime number\n",
      "The number 7937 is a prime number\n",
      "The number 7949 is a prime number\n",
      "The number 7951 is a prime number\n",
      "The number 7963 is a prime number\n",
      "The number 7993 is a prime number\n",
      "The number 8009 is a prime number\n",
      "The number 8011 is a prime number\n",
      "The number 8017 is a prime number\n",
      "The number 8039 is a prime number\n",
      "The number 8053 is a prime number\n",
      "The number 8059 is a prime number\n",
      "The number 8069 is a prime number\n",
      "The number 8081 is a prime number\n",
      "The number 8087 is a prime number\n",
      "The number 8089 is a prime number\n",
      "The number 8093 is a prime number\n",
      "The number 8101 is a prime number\n",
      "The number 8111 is a prime number\n",
      "The number 8117 is a prime number\n",
      "The number 8123 is a prime number\n",
      "The number 8147 is a prime number\n",
      "The number 8161 is a prime number\n",
      "The number 8167 is a prime number\n",
      "The number 8171 is a prime number\n",
      "The number 8179 is a prime number\n",
      "The number 8191 is a prime number\n",
      "The number 8209 is a prime number\n",
      "The number 8219 is a prime number\n",
      "The number 8221 is a prime number\n",
      "The number 8231 is a prime number\n",
      "The number 8233 is a prime number\n",
      "The number 8237 is a prime number\n",
      "The number 8243 is a prime number\n",
      "The number 8263 is a prime number\n",
      "The number 8269 is a prime number\n",
      "The number 8273 is a prime number\n",
      "The number 8287 is a prime number\n",
      "The number 8291 is a prime number\n",
      "The number 8293 is a prime number\n",
      "The number 8297 is a prime number\n",
      "The number 8311 is a prime number\n",
      "The number 8317 is a prime number\n"
     ]
    },
    {
     "name": "stdout",
     "output_type": "stream",
     "text": [
      "The number 8329 is a prime number\n",
      "The number 8353 is a prime number\n",
      "The number 8363 is a prime number\n",
      "The number 8369 is a prime number\n",
      "The number 8377 is a prime number\n",
      "The number 8387 is a prime number\n",
      "The number 8389 is a prime number\n",
      "The number 8419 is a prime number\n",
      "The number 8423 is a prime number\n",
      "The number 8429 is a prime number\n",
      "The number 8431 is a prime number\n",
      "The number 8443 is a prime number\n",
      "The number 8447 is a prime number\n",
      "The number 8461 is a prime number\n",
      "The number 8467 is a prime number\n",
      "The number 8501 is a prime number\n",
      "The number 8513 is a prime number\n",
      "The number 8521 is a prime number\n",
      "The number 8527 is a prime number\n",
      "The number 8537 is a prime number\n",
      "The number 8539 is a prime number\n",
      "The number 8543 is a prime number\n",
      "The number 8563 is a prime number\n",
      "The number 8573 is a prime number\n",
      "The number 8581 is a prime number\n",
      "The number 8597 is a prime number\n",
      "The number 8599 is a prime number\n",
      "The number 8609 is a prime number\n",
      "The number 8623 is a prime number\n",
      "The number 8627 is a prime number\n",
      "The number 8629 is a prime number\n",
      "The number 8641 is a prime number\n",
      "The number 8647 is a prime number\n",
      "The number 8663 is a prime number\n",
      "The number 8669 is a prime number\n",
      "The number 8677 is a prime number\n",
      "The number 8681 is a prime number\n",
      "The number 8689 is a prime number\n",
      "The number 8693 is a prime number\n",
      "The number 8699 is a prime number\n",
      "The number 8707 is a prime number\n",
      "The number 8713 is a prime number\n",
      "The number 8719 is a prime number\n",
      "The number 8731 is a prime number\n",
      "The number 8737 is a prime number\n",
      "The number 8741 is a prime number\n",
      "The number 8747 is a prime number\n",
      "The number 8753 is a prime number\n",
      "The number 8761 is a prime number\n",
      "The number 8779 is a prime number\n",
      "The number 8783 is a prime number\n",
      "The number 8803 is a prime number\n",
      "The number 8807 is a prime number\n",
      "The number 8819 is a prime number\n",
      "The number 8821 is a prime number\n",
      "The number 8831 is a prime number\n",
      "The number 8837 is a prime number\n",
      "The number 8839 is a prime number\n",
      "The number 8849 is a prime number\n",
      "The number 8861 is a prime number\n",
      "The number 8863 is a prime number\n",
      "The number 8867 is a prime number\n",
      "The number 8887 is a prime number\n",
      "The number 8893 is a prime number\n",
      "The number 8923 is a prime number\n",
      "The number 8929 is a prime number\n",
      "The number 8933 is a prime number\n",
      "The number 8941 is a prime number\n",
      "The number 8951 is a prime number\n",
      "The number 8963 is a prime number\n",
      "The number 8969 is a prime number\n",
      "The number 8971 is a prime number\n",
      "The number 8999 is a prime number\n",
      "The number 9001 is a prime number\n",
      "The number 9007 is a prime number\n",
      "The number 9011 is a prime number\n",
      "The number 9013 is a prime number\n",
      "The number 9029 is a prime number\n",
      "The number 9041 is a prime number\n",
      "The number 9043 is a prime number\n",
      "The number 9049 is a prime number\n",
      "The number 9059 is a prime number\n",
      "The number 9067 is a prime number\n",
      "The number 9091 is a prime number\n",
      "The number 9103 is a prime number\n",
      "The number 9109 is a prime number\n",
      "The number 9127 is a prime number\n",
      "The number 9133 is a prime number\n",
      "The number 9137 is a prime number\n",
      "The number 9151 is a prime number\n",
      "The number 9157 is a prime number\n",
      "The number 9161 is a prime number\n",
      "The number 9173 is a prime number\n",
      "The number 9181 is a prime number\n",
      "The number 9187 is a prime number\n",
      "The number 9199 is a prime number\n",
      "The number 9203 is a prime number\n",
      "The number 9209 is a prime number\n",
      "The number 9221 is a prime number\n",
      "The number 9227 is a prime number\n",
      "The number 9239 is a prime number\n",
      "The number 9241 is a prime number\n",
      "The number 9257 is a prime number\n",
      "The number 9277 is a prime number\n",
      "The number 9281 is a prime number\n",
      "The number 9283 is a prime number\n",
      "The number 9293 is a prime number\n",
      "The number 9311 is a prime number\n",
      "The number 9319 is a prime number\n",
      "The number 9323 is a prime number\n",
      "The number 9337 is a prime number\n",
      "The number 9341 is a prime number\n",
      "The number 9343 is a prime number\n",
      "The number 9349 is a prime number\n",
      "The number 9371 is a prime number\n",
      "The number 9377 is a prime number\n",
      "The number 9391 is a prime number\n",
      "The number 9397 is a prime number\n",
      "The number 9403 is a prime number\n",
      "The number 9413 is a prime number\n",
      "The number 9419 is a prime number\n",
      "The number 9421 is a prime number\n",
      "The number 9431 is a prime number\n",
      "The number 9433 is a prime number\n",
      "The number 9437 is a prime number\n",
      "The number 9439 is a prime number\n",
      "The number 9461 is a prime number\n",
      "The number 9463 is a prime number\n",
      "The number 9467 is a prime number\n",
      "The number 9473 is a prime number\n",
      "The number 9479 is a prime number\n",
      "The number 9491 is a prime number\n",
      "The number 9497 is a prime number\n",
      "The number 9511 is a prime number\n",
      "The number 9521 is a prime number\n",
      "The number 9533 is a prime number\n",
      "The number 9539 is a prime number\n",
      "The number 9547 is a prime number\n",
      "The number 9551 is a prime number\n",
      "The number 9587 is a prime number\n",
      "The number 9601 is a prime number\n",
      "The number 9613 is a prime number\n",
      "The number 9619 is a prime number\n",
      "The number 9623 is a prime number\n",
      "The number 9629 is a prime number\n",
      "The number 9631 is a prime number\n",
      "The number 9643 is a prime number\n",
      "The number 9649 is a prime number\n",
      "The number 9661 is a prime number\n",
      "The number 9677 is a prime number\n",
      "The number 9679 is a prime number\n",
      "The number 9689 is a prime number\n",
      "The number 9697 is a prime number\n",
      "The number 9719 is a prime number\n",
      "The number 9721 is a prime number\n",
      "The number 9733 is a prime number\n",
      "The number 9739 is a prime number\n",
      "The number 9743 is a prime number\n",
      "The number 9749 is a prime number\n",
      "The number 9767 is a prime number\n",
      "The number 9769 is a prime number\n",
      "The number 9781 is a prime number\n",
      "The number 9787 is a prime number\n",
      "The number 9791 is a prime number\n",
      "The number 9803 is a prime number\n",
      "The number 9811 is a prime number\n",
      "The number 9817 is a prime number\n",
      "The number 9829 is a prime number\n",
      "The number 9833 is a prime number\n",
      "The number 9839 is a prime number\n",
      "The number 9851 is a prime number\n",
      "The number 9857 is a prime number\n",
      "The number 9859 is a prime number\n",
      "The number 9871 is a prime number\n",
      "The number 9883 is a prime number\n",
      "The number 9887 is a prime number\n",
      "The number 9901 is a prime number\n",
      "The number 9907 is a prime number\n",
      "The number 9923 is a prime number\n",
      "The number 9929 is a prime number\n",
      "The number 9931 is a prime number\n",
      "The number 9941 is a prime number\n",
      "The number 9949 is a prime number\n",
      "The number 9967 is a prime number\n",
      "The number 9973 is a prime number\n"
     ]
    }
   ],
   "source": [
    "n=int(input(\"Enter n value:\"))\n",
    "for num in range(0,n):\n",
    "    if num > 1:\n",
    "        for i in range(2, num):\n",
    "            if (num % i) == 0:\n",
    "                break\n",
    "        else:\n",
    "            print(\"The number {} is a prime number\".format(num))"
   ]
  },
  {
   "cell_type": "markdown",
   "metadata": {},
   "source": [
    "7.Write a program to find sum of all prime numbers between 1 to n."
   ]
  },
  {
   "cell_type": "code",
   "execution_count": 4,
   "metadata": {},
   "outputs": [
    {
     "name": "stdout",
     "output_type": "stream",
     "text": [
      "Enter n value:9\n",
      "The sum of all prime numbers untill 9 is 36 \n"
     ]
    }
   ],
   "source": [
    "import math\n",
    "lst=[]\n",
    "n=int(input(\"Enter n value:\"))\n",
    "for num in range(2,n):\n",
    "    if num > 1:\n",
    "        for i in range(2, num):\n",
    "            if (num % i) == 0:\n",
    "                break\n",
    "            else:\n",
    "                elements=range(0,n)\n",
    "                lst.append(elements)\n",
    "print(\"The sum of all prime numbers untill {} is {} \".format(n,sum(elements)))"
   ]
  },
  {
   "cell_type": "markdown",
   "metadata": {},
   "source": [
    "8.Write a program to print all alphabets from a to z. - using while loop"
   ]
  },
  {
   "cell_type": "code",
   "execution_count": 2,
   "metadata": {},
   "outputs": [
    {
     "name": "stdout",
     "output_type": "stream",
     "text": [
      "a\n"
     ]
    }
   ],
   "source": [
    "#learn to do this with the help of index\n",
    "lista=[\"a\",\"b\",\"c\",\"d\"]\n",
    "print(lista[0])"
   ]
  },
  {
   "cell_type": "code",
   "execution_count": 17,
   "metadata": {},
   "outputs": [
    {
     "name": "stdout",
     "output_type": "stream",
     "text": [
      "a b c d e f g h i j k l m n o p q r s t u v w x y z "
     ]
    }
   ],
   "source": [
    "#lowercase alphabets\n",
    "for c in range(97, 123): \n",
    "        print(chr(c), end = \" \")"
   ]
  },
  {
   "cell_type": "code",
   "execution_count": 13,
   "metadata": {},
   "outputs": [
    {
     "name": "stdout",
     "output_type": "stream",
     "text": [
      "A B C D E F G H I J K L M N O P Q R S T U V W X Y Z "
     ]
    }
   ],
   "source": [
    "#Uppercase alphabets   \n",
    "for c in range(65, 91): \n",
    "    print(chr(c), end = \" \")"
   ]
  },
  {
   "cell_type": "markdown",
   "metadata": {},
   "source": [
    "9.Write a program to find sum of all even numbers between 1 to n"
   ]
  },
  {
   "cell_type": "code",
   "execution_count": 12,
   "metadata": {},
   "outputs": [
    {
     "name": "stdout",
     "output_type": "stream",
     "text": [
      "2\n",
      "4\n",
      "6\n",
      "8\n",
      "10\n",
      "12\n",
      "14\n",
      "16\n",
      "18\n",
      "20\n",
      "22\n",
      "24\n",
      "26\n",
      "28\n",
      "30\n",
      "32\n",
      "34\n",
      "36\n",
      "38\n",
      "40\n",
      "42\n",
      "44\n",
      "46\n",
      "48\n",
      "50\n",
      "52\n",
      "54\n",
      "56\n",
      "58\n",
      "60\n",
      "62\n",
      "64\n",
      "66\n",
      "68\n",
      "70\n",
      "72\n",
      "74\n",
      "76\n",
      "78\n",
      "80\n",
      "82\n",
      "84\n",
      "86\n",
      "88\n",
      "90\n",
      "92\n",
      "94\n",
      "96\n",
      "98\n"
     ]
    }
   ],
   "source": [
    "for i in range(1,100):\n",
    "    if i%2==0:\n",
    "        print(i)\n",
    "    else:\n",
    "        pass"
   ]
  },
  {
   "cell_type": "markdown",
   "metadata": {},
   "source": [
    "10.Write a program to find first and last digit of a two digit number"
   ]
  },
  {
   "cell_type": "code",
   "execution_count": 16,
   "metadata": {},
   "outputs": [
    {
     "name": "stdout",
     "output_type": "stream",
     "text": [
      "Please Enter any Number: 69\n",
      "The First Digit from a Given Number 69 = 6\n",
      "The last Digit from a Given Number 69 = 9\n"
     ]
    }
   ],
   "source": [
    "number = int(input(\"Please Enter any Number: \"))\n",
    "\n",
    "first_digit = number\n",
    "\n",
    "while (first_digit >= 10):\n",
    "    first_digit = number // 10\n",
    "    last_digit= number%10\n",
    "print(\"The First Digit from a Given Number {0} = {1}\".format(number, first_digit))\n",
    "print(\"The last Digit from a Given Number {0} = {1}\".format(number, last_digit))"
   ]
  },
  {
   "cell_type": "markdown",
   "metadata": {},
   "source": [
    "11.Write a program to find sum of first and last digit of a two digit number."
   ]
  },
  {
   "cell_type": "code",
   "execution_count": 1,
   "metadata": {},
   "outputs": [
    {
     "name": "stdout",
     "output_type": "stream",
     "text": [
      "Please Enter any Number: 99\n",
      "The sum pf the First Digit last digit from the given number 99 = 18\n"
     ]
    }
   ],
   "source": [
    "number = int(input(\"Please Enter any Number: \"))\n",
    "while (number >= 10):\n",
    "    first_digit = number // 10\n",
    "    last_digit= number%10\n",
    "    summ=first_digit+last_digit\n",
    "    print(\"The sum pf the First Digit last digit from the given number {0} = {1}\".format(number, summ))\n",
    "    break"
   ]
  },
  {
   "cell_type": "markdown",
   "metadata": {},
   "source": [
    "12.Write a program to count number of digits in a number"
   ]
  },
  {
   "cell_type": "code",
   "execution_count": 2,
   "metadata": {},
   "outputs": [
    {
     "name": "stdout",
     "output_type": "stream",
     "text": [
      "Please Enter any Number: 754569834\n",
      "\n",
      " Number of Digits in a Given Number = 9\n"
     ]
    }
   ],
   "source": [
    "Number = int(input(\"Please Enter any Number: \"))\n",
    "Count = 0\n",
    "while(Number > 0):\n",
    "    Number = Number // 10\n",
    "    Count = Count + 1\n",
    "\n",
    "print(\"\\n Number of Digits in a Given Number = %d\" %Count)"
   ]
  },
  {
   "cell_type": "markdown",
   "metadata": {},
   "source": [
    "13.Write a program to find sum of all odd numbers between 1 to n."
   ]
  },
  {
   "cell_type": "code",
   "execution_count": 4,
   "metadata": {},
   "outputs": [
    {
     "name": "stdout",
     "output_type": "stream",
     "text": [
      "Enter the value of n7\n",
      "1\n",
      "3\n",
      "5\n",
      "7\n"
     ]
    }
   ],
   "source": [
    "n=int(input(\"Enter the value of n\"))\n",
    "for num in range(0,n+1):\n",
    "    if num%2!=0:\n",
    "        print(num)\n",
    "    else:\n",
    "        pass"
   ]
  },
  {
   "cell_type": "markdown",
   "metadata": {},
   "source": [
    "14. Write a program to print multiplication table of any number."
   ]
  },
  {
   "cell_type": "code",
   "execution_count": 19,
   "metadata": {},
   "outputs": [
    {
     "name": "stdout",
     "output_type": "stream",
     "text": [
      "Multiplication table for the number : 5\n",
      "Multiplication factor : 5\n",
      "5 x 1 = 5\n",
      "5 x 2 = 10\n",
      "5 x 3 = 15\n",
      "5 x 4 = 20\n",
      "5 x 5 = 25\n"
     ]
    }
   ],
   "source": [
    "m_num=int(input(\"Multiplication table for the number : \"))\n",
    "f_num=int(input(\"Multiplication factor : \"))\n",
    "for num in range(1,f_num+1):\n",
    "    print(m_num,'x',num,'=',(m_num*num))"
   ]
  },
  {
   "cell_type": "markdown",
   "metadata": {},
   "source": [
    "15. Write a program to swap first and last digits of a number "
   ]
  },
  {
   "cell_type": "code",
   "execution_count": 9,
   "metadata": {},
   "outputs": [
    {
     "name": "stdout",
     "output_type": "stream",
     "text": [
      "Number to be operated : 12345\n",
      "The operated number is 52341\n"
     ]
    }
   ],
   "source": [
    "num=input(\"Number to be operated : \")\n",
    "a=num[0]\n",
    "b=num[-1]\n",
    "c=num[1:-1]\n",
    "d=b+c+a\n",
    "if type(num)==int:\n",
    "    print(\"The operated number is {}\".format(d))\n",
    "elif type(num)==str:\n",
    "    print(\"The operated number is {}\".format(d))\n",
    "#print(a)\n",
    "#print(b)\n",
    "#print(c)\n",
    "#print(d)"
   ]
  },
  {
   "cell_type": "markdown",
   "metadata": {},
   "source": [
    "16.Write a program to calculate sum of digits of a number. "
   ]
  },
  {
   "cell_type": "code",
   "execution_count": 10,
   "metadata": {},
   "outputs": [
    {
     "name": "stdout",
     "output_type": "stream",
     "text": [
      "Enter the number: 788\n",
      "Sum of the digits of Number = 23\n"
     ]
    }
   ],
   "source": [
    "num=int(input(\"Enter the number: \"))\n",
    "summ=0\n",
    "\n",
    "while(num > 0):\n",
    "    rem=num%10\n",
    "    summ=summ+rem\n",
    "    num=num//10\n",
    "\n",
    "print(\"Sum of the digits of Number = %d\" %summ)"
   ]
  },
  {
   "cell_type": "markdown",
   "metadata": {},
   "source": [
    "17.Write a program to calculate product of digits of a number. "
   ]
  },
  {
   "cell_type": "code",
   "execution_count": 2,
   "metadata": {},
   "outputs": [
    {
     "data": {
      "text/plain": [
       "4"
      ]
     },
     "execution_count": 2,
     "metadata": {},
     "output_type": "execute_result"
    }
   ],
   "source": [
    "def get_product(n): \n",
    "    product = 1\n",
    "    while (n != 0): \n",
    "        product = product * (n % 10) \n",
    "        n = n // 10\n",
    "    return product \n",
    "get_product(22)"
   ]
  },
  {
   "cell_type": "markdown",
   "metadata": {},
   "source": [
    "18.Write a program to enter a number and print its reverse."
   ]
  },
  {
   "cell_type": "code",
   "execution_count": 7,
   "metadata": {},
   "outputs": [
    {
     "name": "stdout",
     "output_type": "stream",
     "text": [
      "Enter the number: 123456\n",
      "The reveresed number of the given number is : 54321\n"
     ]
    }
   ],
   "source": [
    "num=input(\"Enter the number: \")\n",
    "mun==num[::-1]\n",
    "print(\"The reveresed number of the given number is : {}\".format(mun))"
   ]
  },
  {
   "cell_type": "markdown",
   "metadata": {},
   "source": [
    "#debug\n",
    "num=input(\"Enter the number: \")\n",
    "mun=[]\n",
    "while mun:\n",
    "    mun.append(num[::-1])\n",
    "    break\n",
    "print(mun)"
   ]
  },
  {
   "cell_type": "markdown",
   "metadata": {},
   "source": [
    "19.Write a program to check whether a number is palindrome or not."
   ]
  },
  {
   "cell_type": "code",
   "execution_count": 3,
   "metadata": {},
   "outputs": [
    {
     "name": "stdout",
     "output_type": "stream",
     "text": [
      "Enter the number: 123454321\n",
      "The number is a palindrome\n"
     ]
    }
   ],
   "source": [
    "num=input(\"Enter the number: \")\n",
    "mun=num[::-1]\n",
    "while mun in mun:\n",
    "    if mun==num:\n",
    "        print(\"The number is a palindrome\")\n",
    "    else:\n",
    "        print(\"The number is not a palindrome\")\n",
    "    break"
   ]
  },
  {
   "cell_type": "markdown",
   "metadata": {},
   "source": [
    "20.Write a program to find frequency of each digit in a given integer"
   ]
  },
  {
   "cell_type": "code",
   "execution_count": 23,
   "metadata": {},
   "outputs": [
    {
     "name": "stdout",
     "output_type": "stream",
     "text": [
      "3\n"
     ]
    }
   ],
   "source": [
    "def frequencyDigits(n, d): \n",
    "    c = 0; \n",
    "    while (n > 0):  \n",
    "        if (n % 10 == d): \n",
    "            c += 1; \n",
    "        n = int(n / 10); \n",
    "    return c; \n",
    "print(frequencyDigits(111222334445555467686, 1)); "
   ]
  },
  {
   "cell_type": "markdown",
   "metadata": {},
   "source": [
    "21.Write a program to enter a number and print it in words."
   ]
  },
  {
   "cell_type": "code",
   "execution_count": 5,
   "metadata": {},
   "outputs": [
    {
     "data": {
      "text/plain": [
       "'One Thousand Two Hundred Eighty'"
      ]
     },
     "execution_count": 5,
     "metadata": {},
     "output_type": "execute_result"
    }
   ],
   "source": [
    "def num2words(num):\n",
    "    under_20 = ['Zero','One','Two','Three','Four','Five','Six','Seven','Eight','Nine','Ten','Eleven','Twelve','Thirteen','Fourteen','Fifteen','Sixteen','Seventeen','Eighteen','Nineteen']\n",
    "    tens = ['Twenty','Thirty','Forty','Fifty','Sixty','Seventy','Eighty','Ninety']\n",
    "    above_100 = {100: 'Hundred',1000:'Thousand', 1000000:'Million', 1000000000:'Billion'}\n",
    "\n",
    "    if num < 20:\n",
    "        return under_20[num]\n",
    "    if num < 100:\n",
    "        return tens[(int)(num/10)-2] + ('' if num%10==0 else ' ' + under_20[num%10])\n",
    "    pivot = max([key for key in above_100.keys() if key <= num])\n",
    "\n",
    "    return num2words((int)(num/pivot)) + ' ' + above_100[pivot] + ('' if num%pivot==0 else ' ' + num2words(num%pivot))\n",
    "num2words(1280)"
   ]
  },
  {
   "cell_type": "markdown",
   "metadata": {},
   "source": [
    "22.Write a program to print all ASCII character with their values."
   ]
  },
  {
   "cell_type": "code",
   "execution_count": 6,
   "metadata": {},
   "outputs": [
    {
     "name": "stdout",
     "output_type": "stream",
     "text": [
      "1 = \u0001\n",
      "2 = \u0002\n",
      "3 = \u0003\n",
      "4 = \u0004\n",
      "5 = \u0005\n",
      "6 = \u0006\n",
      "7 = \u0007\n",
      "8 = \b\n",
      "9 = \t\n",
      "10 = \n",
      "\n",
      "11 = \u000b",
      "\n",
      "12 = \f",
      "\n",
      "13 = \r\n",
      "14 = \u000e\n",
      "15 = \u000f\n",
      "16 = \u0010\n",
      "17 = \u0011\n",
      "18 = \u0012\n",
      "19 = \u0013\n",
      "20 = \u0014\n",
      "21 = \u0015\n",
      "22 = \u0016\n",
      "23 = \u0017\n",
      "24 = \u0018\n",
      "25 = \u0019\n",
      "26 = \u001a\n",
      "27 = \u001b\n",
      "28 = \u001c",
      "\n",
      "29 = \u001d",
      "\n",
      "30 = \u001e",
      "\n",
      "31 = \u001f\n",
      "32 =  \n",
      "33 = !\n",
      "34 = \"\n",
      "35 = #\n",
      "36 = $\n",
      "37 = %\n",
      "38 = &\n",
      "39 = '\n",
      "40 = (\n",
      "41 = )\n",
      "42 = *\n",
      "43 = +\n",
      "44 = ,\n",
      "45 = -\n",
      "46 = .\n",
      "47 = /\n",
      "48 = 0\n",
      "49 = 1\n",
      "50 = 2\n",
      "51 = 3\n",
      "52 = 4\n",
      "53 = 5\n",
      "54 = 6\n",
      "55 = 7\n",
      "56 = 8\n",
      "57 = 9\n",
      "58 = :\n",
      "59 = ;\n",
      "60 = <\n",
      "61 = =\n",
      "62 = >\n",
      "63 = ?\n",
      "64 = @\n",
      "65 = A\n",
      "66 = B\n",
      "67 = C\n",
      "68 = D\n",
      "69 = E\n",
      "70 = F\n",
      "71 = G\n",
      "72 = H\n",
      "73 = I\n",
      "74 = J\n",
      "75 = K\n",
      "76 = L\n",
      "77 = M\n",
      "78 = N\n",
      "79 = O\n",
      "80 = P\n",
      "81 = Q\n",
      "82 = R\n",
      "83 = S\n",
      "84 = T\n",
      "85 = U\n",
      "86 = V\n",
      "87 = W\n",
      "88 = X\n",
      "89 = Y\n",
      "90 = Z\n",
      "91 = [\n",
      "92 = \\\n",
      "93 = ]\n",
      "94 = ^\n",
      "95 = _\n",
      "96 = `\n",
      "97 = a\n",
      "98 = b\n",
      "99 = c\n",
      "100 = d\n",
      "101 = e\n",
      "102 = f\n",
      "103 = g\n",
      "104 = h\n",
      "105 = i\n",
      "106 = j\n",
      "107 = k\n",
      "108 = l\n",
      "109 = m\n",
      "110 = n\n",
      "111 = o\n",
      "112 = p\n",
      "113 = q\n",
      "114 = r\n",
      "115 = s\n",
      "116 = t\n",
      "117 = u\n",
      "118 = v\n",
      "119 = w\n",
      "120 = x\n",
      "121 = y\n",
      "122 = z\n",
      "123 = {\n",
      "124 = |\n",
      "125 = }\n",
      "126 = ~\n",
      "127 = \n",
      "128 = \n",
      "129 = \n",
      "130 = \n",
      "131 = \n",
      "132 = \n",
      "133 = ",
      "\n",
      "134 = \n",
      "135 = \n",
      "136 = \n",
      "137 = \n",
      "138 = \n",
      "139 = \n",
      "140 = \n",
      "141 = \n",
      "142 = \n",
      "143 = \n",
      "144 = \n",
      "145 = \n",
      "146 = \n",
      "147 = \n",
      "148 = \n",
      "149 = \n",
      "150 = \n",
      "151 = \n",
      "152 = \n",
      "153 = \n",
      "154 = \n",
      "155 = \n",
      "156 = \n",
      "157 = \n",
      "158 = \n",
      "159 = \n",
      "160 =  \n",
      "161 = ¡\n",
      "162 = ¢\n",
      "163 = £\n",
      "164 = ¤\n",
      "165 = ¥\n",
      "166 = ¦\n",
      "167 = §\n",
      "168 = ¨\n",
      "169 = ©\n",
      "170 = ª\n",
      "171 = «\n",
      "172 = ¬\n",
      "173 = ­\n",
      "174 = ®\n",
      "175 = ¯\n",
      "176 = °\n",
      "177 = ±\n",
      "178 = ²\n",
      "179 = ³\n",
      "180 = ´\n",
      "181 = µ\n",
      "182 = ¶\n",
      "183 = ·\n",
      "184 = ¸\n",
      "185 = ¹\n",
      "186 = º\n",
      "187 = »\n",
      "188 = ¼\n",
      "189 = ½\n",
      "190 = ¾\n",
      "191 = ¿\n",
      "192 = À\n",
      "193 = Á\n",
      "194 = Â\n",
      "195 = Ã\n",
      "196 = Ä\n",
      "197 = Å\n",
      "198 = Æ\n",
      "199 = Ç\n",
      "200 = È\n",
      "201 = É\n",
      "202 = Ê\n",
      "203 = Ë\n",
      "204 = Ì\n",
      "205 = Í\n",
      "206 = Î\n",
      "207 = Ï\n",
      "208 = Ð\n",
      "209 = Ñ\n",
      "210 = Ò\n",
      "211 = Ó\n",
      "212 = Ô\n",
      "213 = Õ\n",
      "214 = Ö\n",
      "215 = ×\n",
      "216 = Ø\n",
      "217 = Ù\n",
      "218 = Ú\n",
      "219 = Û\n",
      "220 = Ü\n",
      "221 = Ý\n",
      "222 = Þ\n",
      "223 = ß\n",
      "224 = à\n",
      "225 = á\n",
      "226 = â\n",
      "227 = ã\n",
      "228 = ä\n",
      "229 = å\n",
      "230 = æ\n",
      "231 = ç\n",
      "232 = è\n",
      "233 = é\n",
      "234 = ê\n",
      "235 = ë\n",
      "236 = ì\n",
      "237 = í\n",
      "238 = î\n",
      "239 = ï\n",
      "240 = ð\n",
      "241 = ñ\n",
      "242 = ò\n",
      "243 = ó\n",
      "244 = ô\n",
      "245 = õ\n",
      "246 = ö\n",
      "247 = ÷\n",
      "248 = ø\n",
      "249 = ù\n",
      "250 = ú\n",
      "251 = û\n",
      "252 = ü\n",
      "253 = ý\n",
      "254 = þ\n"
     ]
    }
   ],
   "source": [
    "for i in range(1, 255):\n",
    "    ch = chr(i);\n",
    "    print(i, \"=\", ch);"
   ]
  },
  {
   "cell_type": "markdown",
   "metadata": {},
   "source": [
    "23.Write a program to find power of a number using for loop."
   ]
  },
  {
   "cell_type": "code",
   "execution_count": 7,
   "metadata": {},
   "outputs": [
    {
     "name": "stdout",
     "output_type": "stream",
     "text": [
      "Enter the number of which you have to find power: 2\n",
      "Enter the power: 2\n",
      "4\n"
     ]
    }
   ],
   "source": [
    "#assuming what has been asked for is if a number is raised to the power of another number\n",
    "num = int(input(\"Enter the number of which you have to find power: \"))\n",
    "exp = int(input(\"Enter the power: \"))\n",
    "\n",
    "a = 1\n",
    "for n in range(exp):\n",
    "    a = a*num\n",
    "\n",
    "print(a)"
   ]
  },
  {
   "cell_type": "markdown",
   "metadata": {},
   "source": [
    "24.Write a program to find all factors of a number."
   ]
  },
  {
   "cell_type": "code",
   "execution_count": 12,
   "metadata": {},
   "outputs": [
    {
     "name": "stdout",
     "output_type": "stream",
     "text": [
      "Enter the number : 10\n",
      "1 2 5 10 "
     ]
    }
   ],
   "source": [
    "num=int(input(\"Enter the number : \"))\n",
    "for i in range(1,num+1):\n",
    "    if num%i==0:\n",
    "        print(i,end=\" \")"
   ]
  },
  {
   "cell_type": "markdown",
   "metadata": {},
   "source": [
    "25.Write a program to calculate factorial of a number."
   ]
  },
  {
   "cell_type": "code",
   "execution_count": 24,
   "metadata": {},
   "outputs": [
    {
     "data": {
      "text/plain": [
       "120"
      ]
     },
     "execution_count": 24,
     "metadata": {},
     "output_type": "execute_result"
    }
   ],
   "source": [
    "def fact(n):\n",
    "    if n==0:\n",
    "        return 1\n",
    "    return n*fact(n-1)\n",
    "fact(5)"
   ]
  },
  {
   "cell_type": "markdown",
   "metadata": {},
   "source": [
    "26.Write a program to find HCF (GCD) of two numbers"
   ]
  },
  {
   "cell_type": "code",
   "execution_count": 45,
   "metadata": {},
   "outputs": [
    {
     "name": "stdout",
     "output_type": "stream",
     "text": [
      "Enter the greatest number :64\n",
      "Enter the lesser number :48\n",
      "16\n"
     ]
    }
   ],
   "source": [
    "num1=int(input(\"Enter the greatest number :\"))\n",
    "num2=int(input(\"Enter the lesser number :\"))\n",
    "while(num2):\n",
    "    num1,num2=num2,num1%num2\n",
    "print(num1)"
   ]
  },
  {
   "cell_type": "markdown",
   "metadata": {},
   "source": [
    "27.Write a program to find LCM of two numbers."
   ]
  },
  {
   "cell_type": "code",
   "execution_count": 56,
   "metadata": {},
   "outputs": [
    {
     "name": "stdout",
     "output_type": "stream",
     "text": [
      "Enter the greater number :2\n",
      "Enter the lesser number :4\n",
      "LCM is :  4\n"
     ]
    }
   ],
   "source": [
    "num1=int(input(\"Enter the greater number :\"))\n",
    "num2=int(input(\"Enter the lesser number :\"))\n",
    "while True:\n",
    "    if (num2%num1==0 and num2%num2==0):\n",
    "        print(\"LCM is : \", num2)\n",
    "        break\n",
    "    num2=num2+1"
   ]
  },
  {
   "cell_type": "code",
   "execution_count": 60,
   "metadata": {},
   "outputs": [
    {
     "name": "stdout",
     "output_type": "stream",
     "text": [
      "Enter the greater number :8\n",
      "Enter the lesser number :4\n",
      "The LCM of the given numbers is  8\n"
     ]
    }
   ],
   "source": [
    "num1=int(input(\"Enter the greater number :\"))\n",
    "num2=int(input(\"Enter the lesser number :\"))\n",
    "num1,num2=num2,num1\n",
    "for x in range(num2,num1*num2+1,num2):\n",
    "    if x%num1==0:\n",
    "        print(\"The LCM of the given numbers is \",x)\n",
    "    break"
   ]
  },
  {
   "cell_type": "markdown",
   "metadata": {},
   "source": [
    "28.Write a program to check whether a number is Prime number or not."
   ]
  },
  {
   "cell_type": "code",
   "execution_count": 10,
   "metadata": {},
   "outputs": [
    {
     "name": "stdout",
     "output_type": "stream",
     "text": [
      "Enter the number : 7\n",
      "The number 7 is a prime number\n"
     ]
    }
   ],
   "source": [
    "num=int(input(\"Enter the number : \"))\n",
    "if num > 1:\n",
    "        for i in range(2, num):\n",
    "            if num % i == 0:\n",
    "                print(\"The number {} is not a prime number\".format(num))\n",
    "                break\n",
    "        else:\n",
    "            print(\"The number {} is a prime number\".format(num))\n",
    "else:\n",
    "    print(\"The number {} is not a prime number\".format(num))"
   ]
  },
  {
   "cell_type": "code",
   "execution_count": 11,
   "metadata": {},
   "outputs": [
    {
     "name": "stdout",
     "output_type": "stream",
     "text": [
      "Enter the number : 4\n",
      "The number 4 is not a prime number\n"
     ]
    }
   ],
   "source": [
    "num=int(input(\"Enter the number : \"))\n",
    "if num > 1:\n",
    "        for i in range(2, num):\n",
    "            if num % i == 0:\n",
    "                print(\"The number {} is not a prime number\".format(num))\n",
    "                break\n",
    "        else:\n",
    "            print(\"The number {} is a prime number\".format(num))\n",
    "else:\n",
    "    print(\"The number {} is not a prime number\".format(num))"
   ]
  },
  {
   "cell_type": "markdown",
   "metadata": {},
   "source": [
    "29.Write a program to find all prime factors of a number"
   ]
  },
  {
   "cell_type": "code",
   "execution_count": 12,
   "metadata": {},
   "outputs": [
    {
     "name": "stdout",
     "output_type": "stream",
     "text": [
      "Enter the number : 64\n"
     ]
    }
   ],
   "source": [
    "#catch integer value\n",
    "num=int(input(\"Enter the number : \"))\n",
    "#iterate to get the factors\n",
    "for i in range(1,num+1):\n",
    "    if num%i==0:\n",
    "        #check if the factors are primes\n",
    "           if num > 1:\n",
    "                for i in range(2, num):\n",
    "                    if num % i == 0:\n",
    "                        pass\n",
    "                    else:\n",
    "                        print(i,end=\" \")"
   ]
  },
  {
   "cell_type": "markdown",
   "metadata": {},
   "source": [
    "30.Write a program to check whether a number is Armstrong number or not."
   ]
  },
  {
   "cell_type": "code",
   "execution_count": null,
   "metadata": {},
   "outputs": [],
   "source": []
  },
  {
   "cell_type": "markdown",
   "metadata": {},
   "source": [
    "31.Write a program to print all Armstrong numbers between 1 to n. "
   ]
  },
  {
   "cell_type": "code",
   "execution_count": null,
   "metadata": {},
   "outputs": [],
   "source": []
  },
  {
   "cell_type": "markdown",
   "metadata": {},
   "source": [
    "32.Write a program to check whether a number is Perfect number or not."
   ]
  },
  {
   "cell_type": "code",
   "execution_count": 24,
   "metadata": {},
   "outputs": [
    {
     "name": "stdout",
     "output_type": "stream",
     "text": [
      "Enter the number : 4\n",
      "4  is not a perfect number\n"
     ]
    }
   ],
   "source": [
    "num=int(input(\"Enter the number : \"))\n",
    "numb=0\n",
    "for i in range(1,num):\n",
    "    if num%i==0:\n",
    "        numb=numb+i\n",
    "if numb==num:\n",
    "    print(num,\" is a perfect number\")\n",
    "else:\n",
    "    print(num,\" is not a perfect number\")"
   ]
  },
  {
   "cell_type": "code",
   "execution_count": 25,
   "metadata": {},
   "outputs": [
    {
     "name": "stdout",
     "output_type": "stream",
     "text": [
      "Enter the number : 6\n",
      "6  is a perfect number\n"
     ]
    }
   ],
   "source": [
    "num=int(input(\"Enter the number : \"))\n",
    "numb=0\n",
    "for i in range(1,num):\n",
    "    if num%i==0:\n",
    "        numb=numb+i\n",
    "if numb==num:\n",
    "    print(num,\" is a perfect number\")\n",
    "else:\n",
    "    print(num,\" is not a perfect number\")"
   ]
  },
  {
   "cell_type": "markdown",
   "metadata": {},
   "source": [
    "33.Write a program to print all Perfect numbers between 1 to n. "
   ]
  },
  {
   "cell_type": "markdown",
   "metadata": {},
   "source": [
    "num=int(input(\"Enter the number : \"))\n",
    "numb=0\n",
    "lst=[]\n",
    "while i<=num:\n",
    "    if num%i==0:\n",
    "        numb=numb+1\n",
    "        if numb==num:\n",
    "            lst.append(numb)\n",
    "        print(numb)"
   ]
  },
  {
   "cell_type": "markdown",
   "metadata": {},
   "source": [
    "34.Write a program to print all Perfect numbers between 1 to n. \\"
   ]
  },
  {
   "cell_type": "code",
   "execution_count": null,
   "metadata": {},
   "outputs": [],
   "source": []
  },
  {
   "cell_type": "markdown",
   "metadata": {},
   "source": [
    "35.Write a program to check whether a number is Strong number or not."
   ]
  },
  {
   "cell_type": "code",
   "execution_count": 3,
   "metadata": {},
   "outputs": [
    {
     "name": "stdout",
     "output_type": "stream",
     "text": [
      "Enter the number : 145\n"
     ]
    },
    {
     "ename": "TypeError",
     "evalue": "argument of type 'int' is not iterable",
     "output_type": "error",
     "traceback": [
      "\u001b[1;31m---------------------------------------------------------------------------\u001b[0m",
      "\u001b[1;31mTypeError\u001b[0m                                 Traceback (most recent call last)",
      "\u001b[1;32m<ipython-input-3-e1aedd0980f5>\u001b[0m in \u001b[0;36m<module>\u001b[1;34m\u001b[0m\n\u001b[0;32m      2\u001b[0m \u001b[0mnumb\u001b[0m\u001b[1;33m=\u001b[0m\u001b[1;36m0\u001b[0m\u001b[1;33m\u001b[0m\u001b[1;33m\u001b[0m\u001b[0m\n\u001b[0;32m      3\u001b[0m \u001b[0mtemp\u001b[0m\u001b[1;33m=\u001b[0m\u001b[0mnum\u001b[0m\u001b[1;33m\u001b[0m\u001b[1;33m\u001b[0m\u001b[0m\n\u001b[1;32m----> 4\u001b[1;33m \u001b[1;32mwhile\u001b[0m \u001b[0mnum\u001b[0m \u001b[1;32min\u001b[0m \u001b[0mnum\u001b[0m\u001b[1;33m:\u001b[0m\u001b[1;33m\u001b[0m\u001b[1;33m\u001b[0m\u001b[0m\n\u001b[0m\u001b[0;32m      5\u001b[0m     \u001b[0mi\u001b[0m\u001b[1;33m=\u001b[0m\u001b[1;36m1\u001b[0m\u001b[1;33m\u001b[0m\u001b[1;33m\u001b[0m\u001b[0m\n\u001b[0;32m      6\u001b[0m     \u001b[0mf\u001b[0m\u001b[1;33m=\u001b[0m\u001b[1;36m1\u001b[0m\u001b[1;33m\u001b[0m\u001b[1;33m\u001b[0m\u001b[0m\n",
      "\u001b[1;31mTypeError\u001b[0m: argument of type 'int' is not iterable"
     ]
    }
   ],
   "source": [
    "num=int(input(\"Enter the number : \"))\n",
    "numb=0\n",
    "temp=num\n",
    "while num in num:\n",
    "    i=1\n",
    "    f=1\n",
    "    r=num%10\n",
    "    while (i<=r):\n",
    "        f=f*i\n",
    "        i=+1\n",
    "    numb=numb+f\n",
    "    num=num//10\n",
    "if (numb==temp):\n",
    "    print(num,\" is a strong number\")\n",
    "else:\n",
    "    print(num,\" is not a strong number\")"
   ]
  },
  {
   "cell_type": "code",
   "execution_count": null,
   "metadata": {},
   "outputs": [],
   "source": []
  },
  {
   "cell_type": "markdown",
   "metadata": {},
   "source": [
    "36.Write a program to print Fibonacci series up to n terms"
   ]
  },
  {
   "cell_type": "code",
   "execution_count": 13,
   "metadata": {},
   "outputs": [
    {
     "name": "stdout",
     "output_type": "stream",
     "text": [
      "Enter the number : -1\n",
      "Terminated\n"
     ]
    }
   ],
   "source": [
    "num=int(input(\"Enter the number : \"))\n",
    "a=0\n",
    "b=1\n",
    "if num==1:\n",
    "    print(a)\n",
    "elif num>1:\n",
    "    print(a)\n",
    "    print(b)\n",
    "    for i in range(2,num):\n",
    "        c=a+b\n",
    "        a=b\n",
    "        b=c\n",
    "        print(c)\n",
    "else:\n",
    "    print(\"Terminated\")"
   ]
  },
  {
   "cell_type": "code",
   "execution_count": 16,
   "metadata": {},
   "outputs": [
    {
     "name": "stdout",
     "output_type": "stream",
     "text": [
      "Enter the number : 4\n",
      "0\n",
      "1\n",
      "1\n",
      "2\n"
     ]
    }
   ],
   "source": [
    "num=int(input(\"Enter the number : \"))\n",
    "a=0\n",
    "b=1\n",
    "if num==1:\n",
    "    print(a)\n",
    "elif num>1:\n",
    "    print(a)\n",
    "    print(b)\n",
    "    for i in range(2,num):\n",
    "        c=a+b\n",
    "        a=b\n",
    "        b=c\n",
    "        print(c)\n",
    "else:\n",
    "    print(\"Terminated\")"
   ]
  },
  {
   "cell_type": "markdown",
   "metadata": {},
   "source": [
    "37.Write a program to find one's complement of a binary number"
   ]
  },
  {
   "cell_type": "code",
   "execution_count": null,
   "metadata": {},
   "outputs": [],
   "source": []
  },
  {
   "cell_type": "markdown",
   "metadata": {},
   "source": [
    "38.Write a program to find two's complement of a binary number"
   ]
  },
  {
   "cell_type": "code",
   "execution_count": null,
   "metadata": {},
   "outputs": [],
   "source": []
  },
  {
   "cell_type": "markdown",
   "metadata": {},
   "source": [
    "39.Write a program to convert Binary to Octal number system."
   ]
  },
  {
   "cell_type": "code",
   "execution_count": null,
   "metadata": {},
   "outputs": [],
   "source": []
  },
  {
   "cell_type": "markdown",
   "metadata": {},
   "source": [
    "40.  Write a program to convert Binary to Decimal number system"
   ]
  },
  {
   "cell_type": "code",
   "execution_count": null,
   "metadata": {},
   "outputs": [],
   "source": []
  },
  {
   "cell_type": "markdown",
   "metadata": {},
   "source": [
    "41.Write a program to convert Binary to Hexadecimal number system."
   ]
  },
  {
   "cell_type": "code",
   "execution_count": null,
   "metadata": {},
   "outputs": [],
   "source": []
  },
  {
   "cell_type": "markdown",
   "metadata": {},
   "source": [
    "42.Write a program to convert Octal to Binary number system."
   ]
  },
  {
   "cell_type": "code",
   "execution_count": null,
   "metadata": {},
   "outputs": [],
   "source": []
  },
  {
   "cell_type": "markdown",
   "metadata": {},
   "source": [
    "43.Write a program to convert Octal to Decimal number system."
   ]
  },
  {
   "cell_type": "code",
   "execution_count": null,
   "metadata": {},
   "outputs": [],
   "source": []
  },
  {
   "cell_type": "markdown",
   "metadata": {},
   "source": [
    "44. Write a program to convert Octal to Hexadecimal number system."
   ]
  },
  {
   "cell_type": "code",
   "execution_count": null,
   "metadata": {},
   "outputs": [],
   "source": []
  },
  {
   "cell_type": "markdown",
   "metadata": {},
   "source": [
    "45.Write a program to convert Decimal to Binary number system."
   ]
  },
  {
   "cell_type": "code",
   "execution_count": null,
   "metadata": {},
   "outputs": [],
   "source": []
  },
  {
   "cell_type": "markdown",
   "metadata": {},
   "source": [
    "46.Write a program to convert Decimal to Octal number system."
   ]
  },
  {
   "cell_type": "code",
   "execution_count": null,
   "metadata": {},
   "outputs": [],
   "source": []
  },
  {
   "cell_type": "markdown",
   "metadata": {},
   "source": [
    "47.Write a program to convert Decimal to Hexadecimal number system. "
   ]
  },
  {
   "cell_type": "code",
   "execution_count": null,
   "metadata": {},
   "outputs": [],
   "source": []
  },
  {
   "cell_type": "markdown",
   "metadata": {},
   "source": [
    "48.Write a program to convert Hexadecimal to Binary number system."
   ]
  },
  {
   "cell_type": "code",
   "execution_count": null,
   "metadata": {},
   "outputs": [],
   "source": []
  },
  {
   "cell_type": "markdown",
   "metadata": {},
   "source": [
    "49.Write a program to convert Hexadecimal to Octal number system."
   ]
  },
  {
   "cell_type": "code",
   "execution_count": null,
   "metadata": {},
   "outputs": [],
   "source": []
  },
  {
   "cell_type": "markdown",
   "metadata": {},
   "source": [
    "50.Write a program to convert Hexadecimal to Decimal number system. "
   ]
  },
  {
   "cell_type": "code",
   "execution_count": null,
   "metadata": {},
   "outputs": [],
   "source": []
  },
  {
   "cell_type": "markdown",
   "metadata": {},
   "source": [
    "51.Write a program to print Pascal triangle upto n rows."
   ]
  },
  {
   "cell_type": "code",
   "execution_count": 17,
   "metadata": {},
   "outputs": [
    {
     "name": "stdout",
     "output_type": "stream",
     "text": [
      "Enter number of rows: 7\n",
      "                           1 \n",
      "                        1      1 \n",
      "                     1      2      1 \n",
      "                  1      3      3      1 \n",
      "               1      4      6      4      1 \n",
      "            1      5     10     10      5      1 \n",
      "         1      6     15     20     15      6      1 \n"
     ]
    }
   ],
   "source": [
    "n=int(input(\"Enter number of rows: \"))\n",
    "a=[]\n",
    "for i in range(n):\n",
    "    a.append([])\n",
    "    a[i].append(1)\n",
    "    for j in range(1,i):\n",
    "        a[i].append(a[i-1][j-1]+a[i-1][j])\n",
    "    if(n!=0):\n",
    "        a[i].append(1)\n",
    "for i in range(n):\n",
    "    print(\"   \"*(n-i),end=\" \",sep=\" \")\n",
    "    for j in range(0,i+1):\n",
    "        print('{0:6}'.format(a[i][j]),end=\" \",sep=\" \")\n",
    "    print()"
   ]
  },
  {
   "cell_type": "markdown",
   "metadata": {},
   "source": [
    "52. Star pattern programs - Write a program to print the given star patterns."
   ]
  },
  {
   "cell_type": "code",
   "execution_count": 20,
   "metadata": {},
   "outputs": [
    {
     "name": "stdout",
     "output_type": "stream",
     "text": [
      "Print full Triangle pyramid using stars \n",
      "Enter the number for the pattern5\n",
      "        *   \n",
      "       *  *   \n",
      "      *  *  *   \n",
      "     *  *  *  *   \n",
      "    *  *  *  *  *   \n"
     ]
    }
   ],
   "source": [
    "print(\"Print full Triangle pyramid using stars \")\n",
    "num=int(input(\"Enter the number for the pattern\"))\n",
    "m = (2 * n) - 2\n",
    "for i in range(0, num):\n",
    "    for j in range(0, m):\n",
    "        print(end=\" \")\n",
    "    m = m - 1 # decrementing m after each loop\n",
    "    for j in range(0, i + 1):\n",
    "        # printing full Triangle pyramid using stars\n",
    "        print(\"* \", end=' ')\n",
    "    print(\" \")"
   ]
  },
  {
   "cell_type": "markdown",
   "metadata": {},
   "source": [
    "53. Number pattern programs - Write a program to print the given number patterns."
   ]
  },
  {
   "cell_type": "code",
   "execution_count": 18,
   "metadata": {},
   "outputs": [
    {
     "name": "stdout",
     "output_type": "stream",
     "text": [
      "Enter the number for its number pattern6\n",
      "\n",
      "\n",
      "1 \n",
      "\n",
      "2 2 \n",
      "\n",
      "3 3 3 \n",
      "\n",
      "4 4 4 4 \n",
      "\n",
      "5 5 5 5 5 \n",
      "\n"
     ]
    }
   ],
   "source": [
    "n=int(input(\"Enter the number for its number pattern\"))\n",
    "for num in range(n):\n",
    "    for i in range(num):\n",
    "        print (num, end=\" \") #print number\n",
    "    # new line after each row to display pattern correctly\n",
    "    print(\"\\n\")"
   ]
  }
 ],
 "metadata": {
  "kernelspec": {
   "display_name": "Python 3",
   "language": "python",
   "name": "python3"
  },
  "language_info": {
   "codemirror_mode": {
    "name": "ipython",
    "version": 3
   },
   "file_extension": ".py",
   "mimetype": "text/x-python",
   "name": "python",
   "nbconvert_exporter": "python",
   "pygments_lexer": "ipython3",
   "version": "3.7.4"
  }
 },
 "nbformat": 4,
 "nbformat_minor": 2
}
